{
 "cells": [
  {
   "cell_type": "code",
   "execution_count": 1,
   "metadata": {},
   "outputs": [
    {
     "data": {
      "text/html": [
       "<div>\n",
       "<style scoped>\n",
       "    .dataframe tbody tr th:only-of-type {\n",
       "        vertical-align: middle;\n",
       "    }\n",
       "\n",
       "    .dataframe tbody tr th {\n",
       "        vertical-align: top;\n",
       "    }\n",
       "\n",
       "    .dataframe thead th {\n",
       "        text-align: right;\n",
       "    }\n",
       "</style>\n",
       "<table border=\"1\" class=\"dataframe\">\n",
       "  <thead>\n",
       "    <tr style=\"text-align: right;\">\n",
       "      <th></th>\n",
       "      <th>GEO_ID</th>\n",
       "      <th>NAME</th>\n",
       "      <th>NAICS2017</th>\n",
       "      <th>NAICS2017_LABEL</th>\n",
       "      <th>OWNER_SEX</th>\n",
       "      <th>OWNER_SEX_LABEL</th>\n",
       "      <th>OWNER_ETH</th>\n",
       "      <th>OWNER_ETH_LABEL</th>\n",
       "      <th>OWNER_RACE</th>\n",
       "      <th>OWNER_RACE_LABEL</th>\n",
       "      <th>OWNER_VET</th>\n",
       "      <th>OWNER_VET_LABEL</th>\n",
       "      <th>QDESC</th>\n",
       "      <th>QDESC_LABEL</th>\n",
       "      <th>OWNCHAR</th>\n",
       "      <th>OWNCHAR_LABEL</th>\n",
       "      <th>YEAR</th>\n",
       "      <th>OWNPDEMP</th>\n",
       "      <th>OWNPDEMP_PCT</th>\n",
       "      <th>us</th>\n",
       "    </tr>\n",
       "  </thead>\n",
       "  <tbody>\n",
       "    <tr>\n",
       "      <th>0</th>\n",
       "      <td>0100000US</td>\n",
       "      <td>United States</td>\n",
       "      <td>00</td>\n",
       "      <td>Total for all sectors</td>\n",
       "      <td>001</td>\n",
       "      <td>All owners of respondent firms</td>\n",
       "      <td>001</td>\n",
       "      <td>All owners of respondent firms</td>\n",
       "      <td>40</td>\n",
       "      <td>Black or African American</td>\n",
       "      <td>001</td>\n",
       "      <td>All owners of respondent firms</td>\n",
       "      <td>O02</td>\n",
       "      <td>YRACQBUS</td>\n",
       "      <td>CI03</td>\n",
       "      <td>2013 to 2017</td>\n",
       "      <td>2018</td>\n",
       "      <td>21939</td>\n",
       "      <td>29.9</td>\n",
       "      <td>1</td>\n",
       "    </tr>\n",
       "    <tr>\n",
       "      <th>1</th>\n",
       "      <td>0100000US</td>\n",
       "      <td>United States</td>\n",
       "      <td>00</td>\n",
       "      <td>Total for all sectors</td>\n",
       "      <td>001</td>\n",
       "      <td>All owners of respondent firms</td>\n",
       "      <td>001</td>\n",
       "      <td>All owners of respondent firms</td>\n",
       "      <td>40</td>\n",
       "      <td>Black or African American</td>\n",
       "      <td>001</td>\n",
       "      <td>All owners of respondent firms</td>\n",
       "      <td>O02</td>\n",
       "      <td>YRACQBUS</td>\n",
       "      <td>CM03</td>\n",
       "      <td>2018</td>\n",
       "      <td>2018</td>\n",
       "      <td>912</td>\n",
       "      <td>1.2</td>\n",
       "      <td>1</td>\n",
       "    </tr>\n",
       "    <tr>\n",
       "      <th>2</th>\n",
       "      <td>0100000US</td>\n",
       "      <td>United States</td>\n",
       "      <td>00</td>\n",
       "      <td>Total for all sectors</td>\n",
       "      <td>001</td>\n",
       "      <td>All owners of respondent firms</td>\n",
       "      <td>001</td>\n",
       "      <td>All owners of respondent firms</td>\n",
       "      <td>40</td>\n",
       "      <td>Black or African American</td>\n",
       "      <td>001</td>\n",
       "      <td>All owners of respondent firms</td>\n",
       "      <td>O02</td>\n",
       "      <td>YRACQBUS</td>\n",
       "      <td>CN</td>\n",
       "      <td>Don't know</td>\n",
       "      <td>2018</td>\n",
       "      <td>7441</td>\n",
       "      <td>10.1</td>\n",
       "      <td>1</td>\n",
       "    </tr>\n",
       "    <tr>\n",
       "      <th>3</th>\n",
       "      <td>0100000US</td>\n",
       "      <td>United States</td>\n",
       "      <td>00</td>\n",
       "      <td>Total for all sectors</td>\n",
       "      <td>001</td>\n",
       "      <td>All owners of respondent firms</td>\n",
       "      <td>001</td>\n",
       "      <td>All owners of respondent firms</td>\n",
       "      <td>40</td>\n",
       "      <td>Black or African American</td>\n",
       "      <td>001</td>\n",
       "      <td>All owners of respondent firms</td>\n",
       "      <td>O02</td>\n",
       "      <td>YRACQBUS</td>\n",
       "      <td>CO</td>\n",
       "      <td>Total reporting</td>\n",
       "      <td>2018</td>\n",
       "      <td>73427</td>\n",
       "      <td>100.0</td>\n",
       "      <td>1</td>\n",
       "    </tr>\n",
       "    <tr>\n",
       "      <th>4</th>\n",
       "      <td>0100000US</td>\n",
       "      <td>United States</td>\n",
       "      <td>00</td>\n",
       "      <td>Total for all sectors</td>\n",
       "      <td>001</td>\n",
       "      <td>All owners of respondent firms</td>\n",
       "      <td>001</td>\n",
       "      <td>All owners of respondent firms</td>\n",
       "      <td>40</td>\n",
       "      <td>Black or African American</td>\n",
       "      <td>001</td>\n",
       "      <td>All owners of respondent firms</td>\n",
       "      <td>O02</td>\n",
       "      <td>YRACQBUS</td>\n",
       "      <td>CP</td>\n",
       "      <td>Item not reported</td>\n",
       "      <td>2018</td>\n",
       "      <td>3106</td>\n",
       "      <td>0.0</td>\n",
       "      <td>1</td>\n",
       "    </tr>\n",
       "    <tr>\n",
       "      <th>...</th>\n",
       "      <td>...</td>\n",
       "      <td>...</td>\n",
       "      <td>...</td>\n",
       "      <td>...</td>\n",
       "      <td>...</td>\n",
       "      <td>...</td>\n",
       "      <td>...</td>\n",
       "      <td>...</td>\n",
       "      <td>...</td>\n",
       "      <td>...</td>\n",
       "      <td>...</td>\n",
       "      <td>...</td>\n",
       "      <td>...</td>\n",
       "      <td>...</td>\n",
       "      <td>...</td>\n",
       "      <td>...</td>\n",
       "      <td>...</td>\n",
       "      <td>...</td>\n",
       "      <td>...</td>\n",
       "      <td>...</td>\n",
       "    </tr>\n",
       "    <tr>\n",
       "      <th>104617</th>\n",
       "      <td>0100000US</td>\n",
       "      <td>United States</td>\n",
       "      <td>99</td>\n",
       "      <td>Industries not classified</td>\n",
       "      <td>003</td>\n",
       "      <td>Male</td>\n",
       "      <td>001</td>\n",
       "      <td>All owners of respondent firms</td>\n",
       "      <td>00</td>\n",
       "      <td>All owners of respondent firms</td>\n",
       "      <td>001</td>\n",
       "      <td>All owners of respondent firms</td>\n",
       "      <td>O15</td>\n",
       "      <td>PRIORBUSTAT</td>\n",
       "      <td>DI3</td>\n",
       "      <td>Business was purchased by another company</td>\n",
       "      <td>2018</td>\n",
       "      <td>24</td>\n",
       "      <td>0.4</td>\n",
       "      <td>1</td>\n",
       "    </tr>\n",
       "    <tr>\n",
       "      <th>104618</th>\n",
       "      <td>0100000US</td>\n",
       "      <td>United States</td>\n",
       "      <td>99</td>\n",
       "      <td>Industries not classified</td>\n",
       "      <td>003</td>\n",
       "      <td>Male</td>\n",
       "      <td>001</td>\n",
       "      <td>All owners of respondent firms</td>\n",
       "      <td>00</td>\n",
       "      <td>All owners of respondent firms</td>\n",
       "      <td>001</td>\n",
       "      <td>All owners of respondent firms</td>\n",
       "      <td>O15</td>\n",
       "      <td>PRIORBUSTAT</td>\n",
       "      <td>DI4</td>\n",
       "      <td>Business was purchased by another individual</td>\n",
       "      <td>2018</td>\n",
       "      <td>17</td>\n",
       "      <td>0.3</td>\n",
       "      <td>1</td>\n",
       "    </tr>\n",
       "    <tr>\n",
       "      <th>104619</th>\n",
       "      <td>0100000US</td>\n",
       "      <td>United States</td>\n",
       "      <td>99</td>\n",
       "      <td>Industries not classified</td>\n",
       "      <td>003</td>\n",
       "      <td>Male</td>\n",
       "      <td>001</td>\n",
       "      <td>All owners of respondent firms</td>\n",
       "      <td>00</td>\n",
       "      <td>All owners of respondent firms</td>\n",
       "      <td>001</td>\n",
       "      <td>All owners of respondent firms</td>\n",
       "      <td>O15</td>\n",
       "      <td>PRIORBUSTAT</td>\n",
       "      <td>DI5</td>\n",
       "      <td>Other</td>\n",
       "      <td>2018</td>\n",
       "      <td>273</td>\n",
       "      <td>4.4</td>\n",
       "      <td>1</td>\n",
       "    </tr>\n",
       "    <tr>\n",
       "      <th>104620</th>\n",
       "      <td>0100000US</td>\n",
       "      <td>United States</td>\n",
       "      <td>99</td>\n",
       "      <td>Industries not classified</td>\n",
       "      <td>003</td>\n",
       "      <td>Male</td>\n",
       "      <td>001</td>\n",
       "      <td>All owners of respondent firms</td>\n",
       "      <td>00</td>\n",
       "      <td>All owners of respondent firms</td>\n",
       "      <td>001</td>\n",
       "      <td>All owners of respondent firms</td>\n",
       "      <td>O15</td>\n",
       "      <td>PRIORBUSTAT</td>\n",
       "      <td>DITR</td>\n",
       "      <td>Total reporting</td>\n",
       "      <td>2018</td>\n",
       "      <td>6221</td>\n",
       "      <td>100.0</td>\n",
       "      <td>1</td>\n",
       "    </tr>\n",
       "    <tr>\n",
       "      <th>104621</th>\n",
       "      <td>0100000US</td>\n",
       "      <td>United States</td>\n",
       "      <td>99</td>\n",
       "      <td>Industries not classified</td>\n",
       "      <td>003</td>\n",
       "      <td>Male</td>\n",
       "      <td>001</td>\n",
       "      <td>All owners of respondent firms</td>\n",
       "      <td>00</td>\n",
       "      <td>All owners of respondent firms</td>\n",
       "      <td>001</td>\n",
       "      <td>All owners of respondent firms</td>\n",
       "      <td>O15</td>\n",
       "      <td>PRIORBUSTAT</td>\n",
       "      <td>DIXX</td>\n",
       "      <td>Item not reported</td>\n",
       "      <td>2018</td>\n",
       "      <td>198</td>\n",
       "      <td>0.0</td>\n",
       "      <td>1</td>\n",
       "    </tr>\n",
       "  </tbody>\n",
       "</table>\n",
       "<p>104622 rows × 20 columns</p>\n",
       "</div>"
      ],
      "text/plain": [
       "           GEO_ID           NAME NAICS2017            NAICS2017_LABEL  \\\n",
       "0       0100000US  United States        00      Total for all sectors   \n",
       "1       0100000US  United States        00      Total for all sectors   \n",
       "2       0100000US  United States        00      Total for all sectors   \n",
       "3       0100000US  United States        00      Total for all sectors   \n",
       "4       0100000US  United States        00      Total for all sectors   \n",
       "...           ...            ...       ...                        ...   \n",
       "104617  0100000US  United States        99  Industries not classified   \n",
       "104618  0100000US  United States        99  Industries not classified   \n",
       "104619  0100000US  United States        99  Industries not classified   \n",
       "104620  0100000US  United States        99  Industries not classified   \n",
       "104621  0100000US  United States        99  Industries not classified   \n",
       "\n",
       "       OWNER_SEX                 OWNER_SEX_LABEL OWNER_ETH  \\\n",
       "0            001  All owners of respondent firms       001   \n",
       "1            001  All owners of respondent firms       001   \n",
       "2            001  All owners of respondent firms       001   \n",
       "3            001  All owners of respondent firms       001   \n",
       "4            001  All owners of respondent firms       001   \n",
       "...          ...                             ...       ...   \n",
       "104617       003                            Male       001   \n",
       "104618       003                            Male       001   \n",
       "104619       003                            Male       001   \n",
       "104620       003                            Male       001   \n",
       "104621       003                            Male       001   \n",
       "\n",
       "                       OWNER_ETH_LABEL OWNER_RACE  \\\n",
       "0       All owners of respondent firms         40   \n",
       "1       All owners of respondent firms         40   \n",
       "2       All owners of respondent firms         40   \n",
       "3       All owners of respondent firms         40   \n",
       "4       All owners of respondent firms         40   \n",
       "...                                ...        ...   \n",
       "104617  All owners of respondent firms         00   \n",
       "104618  All owners of respondent firms         00   \n",
       "104619  All owners of respondent firms         00   \n",
       "104620  All owners of respondent firms         00   \n",
       "104621  All owners of respondent firms         00   \n",
       "\n",
       "                      OWNER_RACE_LABEL OWNER_VET  \\\n",
       "0            Black or African American       001   \n",
       "1            Black or African American       001   \n",
       "2            Black or African American       001   \n",
       "3            Black or African American       001   \n",
       "4            Black or African American       001   \n",
       "...                                ...       ...   \n",
       "104617  All owners of respondent firms       001   \n",
       "104618  All owners of respondent firms       001   \n",
       "104619  All owners of respondent firms       001   \n",
       "104620  All owners of respondent firms       001   \n",
       "104621  All owners of respondent firms       001   \n",
       "\n",
       "                       OWNER_VET_LABEL QDESC  QDESC_LABEL OWNCHAR  \\\n",
       "0       All owners of respondent firms   O02     YRACQBUS    CI03   \n",
       "1       All owners of respondent firms   O02     YRACQBUS    CM03   \n",
       "2       All owners of respondent firms   O02     YRACQBUS      CN   \n",
       "3       All owners of respondent firms   O02     YRACQBUS      CO   \n",
       "4       All owners of respondent firms   O02     YRACQBUS      CP   \n",
       "...                                ...   ...          ...     ...   \n",
       "104617  All owners of respondent firms   O15  PRIORBUSTAT     DI3   \n",
       "104618  All owners of respondent firms   O15  PRIORBUSTAT     DI4   \n",
       "104619  All owners of respondent firms   O15  PRIORBUSTAT     DI5   \n",
       "104620  All owners of respondent firms   O15  PRIORBUSTAT    DITR   \n",
       "104621  All owners of respondent firms   O15  PRIORBUSTAT    DIXX   \n",
       "\n",
       "                                       OWNCHAR_LABEL  YEAR OWNPDEMP  \\\n",
       "0                                       2013 to 2017  2018    21939   \n",
       "1                                               2018  2018      912   \n",
       "2                                         Don't know  2018     7441   \n",
       "3                                    Total reporting  2018    73427   \n",
       "4                                  Item not reported  2018     3106   \n",
       "...                                              ...   ...      ...   \n",
       "104617     Business was purchased by another company  2018       24   \n",
       "104618  Business was purchased by another individual  2018       17   \n",
       "104619                                         Other  2018      273   \n",
       "104620                               Total reporting  2018     6221   \n",
       "104621                             Item not reported  2018      198   \n",
       "\n",
       "       OWNPDEMP_PCT us  \n",
       "0              29.9  1  \n",
       "1               1.2  1  \n",
       "2              10.1  1  \n",
       "3             100.0  1  \n",
       "4               0.0  1  \n",
       "...             ... ..  \n",
       "104617          0.4  1  \n",
       "104618          0.3  1  \n",
       "104619          4.4  1  \n",
       "104620        100.0  1  \n",
       "104621          0.0  1  \n",
       "\n",
       "[104622 rows x 20 columns]"
      ]
     },
     "execution_count": 1,
     "metadata": {},
     "output_type": "execute_result"
    }
   ],
   "source": [
    "import pandas as pd\n",
    "\n",
    "import requests\n",
    "\n",
    "import plotly.express as px\n",
    "\n",
    "\n",
    "def get_request(url, parameters = {}):\n",
    "    return requests.get(url, params = parameters)\n",
    "\n",
    "url1 = \"https://api.census.gov/data/2018/abscbo\"\n",
    "\n",
    "params = {\n",
    "\n",
    "            \"get\": \"GEO_ID,NAME,NAICS2017,NAICS2017_LABEL,OWNER_SEX,OWNER_SEX_LABEL,OWNER_ETH,OWNER_ETH_LABEL,OWNER_RACE,OWNER_RACE_LABEL,OWNER_VET,OWNER_VET_LABEL,QDESC,QDESC_LABEL,OWNCHAR,OWNCHAR_LABEL,YEAR,OWNPDEMP,OWNPDEMP_PCT\",\n",
    "\n",
    "            \"for\": \"us\",\n",
    "\n",
    "            \"key\": \"ab3bba1c660863685ea46afadc062bea471c8a64\"\n",
    "\n",
    "        }\n",
    "\n",
    "res = get_request(url1, params).json()\n",
    "\n",
    "ownerNat = pd.DataFrame(res[1:], columns = res[0])\n",
    "\n",
    "ownerNat"
   ]
  },
  {
   "cell_type": "code",
   "execution_count": 2,
   "metadata": {},
   "outputs": [],
   "source": [
    "ownerNat['OWNPDEMP'] = ownerNat['OWNPDEMP'].astype(int)"
   ]
  },
  {
   "cell_type": "code",
   "execution_count": 3,
   "metadata": {},
   "outputs": [
    {
     "data": {
      "text/plain": [
       "Total for all sectors                                                       5808\n",
       "Professional, scientific, and technical services                            5695\n",
       "Manufacturing                                                               5483\n",
       "Wholesale trade                                                             5416\n",
       "Health care and social assistance                                           5413\n",
       "Accommodation and food services                                             5397\n",
       "Construction                                                                5367\n",
       "Retail trade                                                                5338\n",
       "Administrative and support and waste management and remediation services    5332\n",
       "Transportation and warehousing                                              5307\n",
       "Information                                                                 5245\n",
       "Other services (except public administration)                               5222\n",
       "Real estate and rental and leasing                                          5150\n",
       "Finance and insurance                                                       5094\n",
       "Arts, entertainment, and recreation                                         4689\n",
       "Educational services                                                        4550\n",
       "Industries not classified                                                   4550\n",
       "Mining, quarrying, and oil and gas extraction                               4294\n",
       "Management of companies and enterprises                                     4050\n",
       "Agriculture, forestry, fishing and hunting                                  3661\n",
       "Utilities                                                                   3561\n",
       "Name: NAICS2017_LABEL, dtype: int64"
      ]
     },
     "execution_count": 3,
     "metadata": {},
     "output_type": "execute_result"
    }
   ],
   "source": [
    "ownerNat['NAICS2017_LABEL'].value_counts()"
   ]
  },
  {
   "cell_type": "code",
   "execution_count": 4,
   "metadata": {},
   "outputs": [],
   "source": [
    "#Shortening overly-long industry labels\n",
    "ownerNat['NAICS2017_LABEL']=ownerNat['NAICS2017_LABEL'].replace({'Agriculture, forestry, fishing and hunting':'Agriculture/Forestry/Fishing/Hunting', 'Mining, quarrying, and oil and gas extraction':'Mining/Quarrying/Oil&Gas', 'Professional, scientific, and technical services':'Professional/Sci/Tech', 'Administrative and support and waste management and remediation services':\"Admin/Support/Waste Mgmt/Remediation\"})\n",
    "\n"
   ]
  },
  {
   "cell_type": "code",
   "execution_count": 5,
   "metadata": {},
   "outputs": [],
   "source": [
    "#finding service disabled male veterans\n",
    "MSerDisVetOwn = ownerNat[(ownerNat.OWNER_VET_LABEL == 'Veteran') & (ownerNat.OWNER_SEX_LABEL == 'Male') & (ownerNat.OWNCHAR == 'FG')]\n"
   ]
  },
  {
   "cell_type": "code",
   "execution_count": 6,
   "metadata": {},
   "outputs": [],
   "source": [
    "#finding male non-service-disabled male veterans\n",
    "MNonServDisVetOwn = ownerNat[(ownerNat.OWNER_VET_LABEL == 'Veteran') & (ownerNat.OWNER_SEX_LABEL == 'Male') & (ownerNat.OWNCHAR == 'FH')]"
   ]
  },
  {
   "cell_type": "code",
   "execution_count": 7,
   "metadata": {},
   "outputs": [],
   "source": [
    "#finding male veterans in general\n",
    "MVDisNonDis = ownerNat[(ownerNat.OWNCHAR == 'FH') | (ownerNat.OWNCHAR == 'FG')]\n",
    "MVDisNonDis = MVDisNonDis[((MVDisNonDis.OWNER_VET_LABEL == 'Veteran') & (MVDisNonDis.OWNER_SEX_LABEL == 'Male'))]"
   ]
  },
  {
   "cell_type": "code",
   "execution_count": 8,
   "metadata": {},
   "outputs": [
    {
     "data": {
      "text/html": [
       "<div>\n",
       "<style scoped>\n",
       "    .dataframe tbody tr th:only-of-type {\n",
       "        vertical-align: middle;\n",
       "    }\n",
       "\n",
       "    .dataframe tbody tr th {\n",
       "        vertical-align: top;\n",
       "    }\n",
       "\n",
       "    .dataframe thead th {\n",
       "        text-align: right;\n",
       "    }\n",
       "</style>\n",
       "<table border=\"1\" class=\"dataframe\">\n",
       "  <thead>\n",
       "    <tr style=\"text-align: right;\">\n",
       "      <th></th>\n",
       "      <th>GEO_ID</th>\n",
       "      <th>NAME</th>\n",
       "      <th>NAICS2017</th>\n",
       "      <th>NAICS2017_LABEL</th>\n",
       "      <th>OWNER_SEX</th>\n",
       "      <th>OWNER_SEX_LABEL</th>\n",
       "      <th>OWNER_ETH</th>\n",
       "      <th>OWNER_ETH_LABEL</th>\n",
       "      <th>OWNER_RACE</th>\n",
       "      <th>OWNER_RACE_LABEL</th>\n",
       "      <th>OWNER_VET</th>\n",
       "      <th>OWNER_VET_LABEL</th>\n",
       "      <th>QDESC</th>\n",
       "      <th>QDESC_LABEL</th>\n",
       "      <th>OWNCHAR</th>\n",
       "      <th>OWNCHAR_LABEL</th>\n",
       "      <th>YEAR</th>\n",
       "      <th>OWNPDEMP</th>\n",
       "      <th>OWNPDEMP_PCT</th>\n",
       "      <th>us</th>\n",
       "    </tr>\n",
       "  </thead>\n",
       "  <tbody>\n",
       "    <tr>\n",
       "      <th>5302</th>\n",
       "      <td>0100000US</td>\n",
       "      <td>United States</td>\n",
       "      <td>00</td>\n",
       "      <td>Total for all sectors</td>\n",
       "      <td>001</td>\n",
       "      <td>All owners of respondent firms</td>\n",
       "      <td>001</td>\n",
       "      <td>All owners of respondent firms</td>\n",
       "      <td>40</td>\n",
       "      <td>Black or African American</td>\n",
       "      <td>002</td>\n",
       "      <td>Veteran</td>\n",
       "      <td>O14</td>\n",
       "      <td>VETSPECIFIC</td>\n",
       "      <td>MN</td>\n",
       "      <td>Served on post-9/11 active duty military service</td>\n",
       "      <td>2018</td>\n",
       "      <td>1300</td>\n",
       "      <td>16.5</td>\n",
       "      <td>1</td>\n",
       "    </tr>\n",
       "    <tr>\n",
       "      <th>5309</th>\n",
       "      <td>0100000US</td>\n",
       "      <td>United States</td>\n",
       "      <td>00</td>\n",
       "      <td>Total for all sectors</td>\n",
       "      <td>001</td>\n",
       "      <td>All owners of respondent firms</td>\n",
       "      <td>001</td>\n",
       "      <td>All owners of respondent firms</td>\n",
       "      <td>50</td>\n",
       "      <td>American Indian and Alaska Native</td>\n",
       "      <td>002</td>\n",
       "      <td>Veteran</td>\n",
       "      <td>O14</td>\n",
       "      <td>VETSPECIFIC</td>\n",
       "      <td>MN</td>\n",
       "      <td>Served on post-9/11 active duty military service</td>\n",
       "      <td>2018</td>\n",
       "      <td>335</td>\n",
       "      <td>17.4</td>\n",
       "      <td>1</td>\n",
       "    </tr>\n",
       "    <tr>\n",
       "      <th>5316</th>\n",
       "      <td>0100000US</td>\n",
       "      <td>United States</td>\n",
       "      <td>00</td>\n",
       "      <td>Total for all sectors</td>\n",
       "      <td>001</td>\n",
       "      <td>All owners of respondent firms</td>\n",
       "      <td>001</td>\n",
       "      <td>All owners of respondent firms</td>\n",
       "      <td>60</td>\n",
       "      <td>Asian</td>\n",
       "      <td>002</td>\n",
       "      <td>Veteran</td>\n",
       "      <td>O14</td>\n",
       "      <td>VETSPECIFIC</td>\n",
       "      <td>MN</td>\n",
       "      <td>Served on post-9/11 active duty military service</td>\n",
       "      <td>2018</td>\n",
       "      <td>1096</td>\n",
       "      <td>18.4</td>\n",
       "      <td>1</td>\n",
       "    </tr>\n",
       "    <tr>\n",
       "      <th>5323</th>\n",
       "      <td>0100000US</td>\n",
       "      <td>United States</td>\n",
       "      <td>00</td>\n",
       "      <td>Total for all sectors</td>\n",
       "      <td>001</td>\n",
       "      <td>All owners of respondent firms</td>\n",
       "      <td>001</td>\n",
       "      <td>All owners of respondent firms</td>\n",
       "      <td>70</td>\n",
       "      <td>Native Hawaiian and Other Pacific Islander</td>\n",
       "      <td>002</td>\n",
       "      <td>Veteran</td>\n",
       "      <td>O14</td>\n",
       "      <td>VETSPECIFIC</td>\n",
       "      <td>MN</td>\n",
       "      <td>Served on post-9/11 active duty military service</td>\n",
       "      <td>2018</td>\n",
       "      <td>0</td>\n",
       "      <td>0.0</td>\n",
       "      <td>1</td>\n",
       "    </tr>\n",
       "    <tr>\n",
       "      <th>6953</th>\n",
       "      <td>0100000US</td>\n",
       "      <td>United States</td>\n",
       "      <td>00</td>\n",
       "      <td>Total for all sectors</td>\n",
       "      <td>001</td>\n",
       "      <td>All owners of respondent firms</td>\n",
       "      <td>001</td>\n",
       "      <td>All owners of respondent firms</td>\n",
       "      <td>30</td>\n",
       "      <td>White</td>\n",
       "      <td>002</td>\n",
       "      <td>Veteran</td>\n",
       "      <td>O14</td>\n",
       "      <td>VETSPECIFIC</td>\n",
       "      <td>MN</td>\n",
       "      <td>Served on post-9/11 active duty military service</td>\n",
       "      <td>2018</td>\n",
       "      <td>20934</td>\n",
       "      <td>7.3</td>\n",
       "      <td>1</td>\n",
       "    </tr>\n",
       "  </tbody>\n",
       "</table>\n",
       "</div>"
      ],
      "text/plain": [
       "         GEO_ID           NAME NAICS2017        NAICS2017_LABEL OWNER_SEX  \\\n",
       "5302  0100000US  United States        00  Total for all sectors       001   \n",
       "5309  0100000US  United States        00  Total for all sectors       001   \n",
       "5316  0100000US  United States        00  Total for all sectors       001   \n",
       "5323  0100000US  United States        00  Total for all sectors       001   \n",
       "6953  0100000US  United States        00  Total for all sectors       001   \n",
       "\n",
       "                     OWNER_SEX_LABEL OWNER_ETH  \\\n",
       "5302  All owners of respondent firms       001   \n",
       "5309  All owners of respondent firms       001   \n",
       "5316  All owners of respondent firms       001   \n",
       "5323  All owners of respondent firms       001   \n",
       "6953  All owners of respondent firms       001   \n",
       "\n",
       "                     OWNER_ETH_LABEL OWNER_RACE  \\\n",
       "5302  All owners of respondent firms         40   \n",
       "5309  All owners of respondent firms         50   \n",
       "5316  All owners of respondent firms         60   \n",
       "5323  All owners of respondent firms         70   \n",
       "6953  All owners of respondent firms         30   \n",
       "\n",
       "                                OWNER_RACE_LABEL OWNER_VET OWNER_VET_LABEL  \\\n",
       "5302                   Black or African American       002         Veteran   \n",
       "5309           American Indian and Alaska Native       002         Veteran   \n",
       "5316                                       Asian       002         Veteran   \n",
       "5323  Native Hawaiian and Other Pacific Islander       002         Veteran   \n",
       "6953                                       White       002         Veteran   \n",
       "\n",
       "     QDESC  QDESC_LABEL OWNCHAR  \\\n",
       "5302   O14  VETSPECIFIC      MN   \n",
       "5309   O14  VETSPECIFIC      MN   \n",
       "5316   O14  VETSPECIFIC      MN   \n",
       "5323   O14  VETSPECIFIC      MN   \n",
       "6953   O14  VETSPECIFIC      MN   \n",
       "\n",
       "                                         OWNCHAR_LABEL  YEAR  OWNPDEMP  \\\n",
       "5302  Served on post-9/11 active duty military service  2018      1300   \n",
       "5309  Served on post-9/11 active duty military service  2018       335   \n",
       "5316  Served on post-9/11 active duty military service  2018      1096   \n",
       "5323  Served on post-9/11 active duty military service  2018         0   \n",
       "6953  Served on post-9/11 active duty military service  2018     20934   \n",
       "\n",
       "     OWNPDEMP_PCT us  \n",
       "5302         16.5  1  \n",
       "5309         17.4  1  \n",
       "5316         18.4  1  \n",
       "5323          0.0  1  \n",
       "6953          7.3  1  "
      ]
     },
     "execution_count": 8,
     "metadata": {},
     "output_type": "execute_result"
    }
   ],
   "source": [
    "#veterans who served active duty post-9/11 by race\n",
    "\n",
    "Vet911 = ownerNat[(ownerNat.OWNER_VET_LABEL == 'Veteran') & (ownerNat.OWNCHAR_LABEL == \"Served on post-9/11 active duty military service\") \n",
    "& (ownerNat.NAICS2017_LABEL == 'Total for all sectors') & (ownerNat.OWNER_RACE_LABEL != \"All owners of respondent firms\") \n",
    "& (ownerNat.OWNER_RACE_LABEL != \"Minority\") & (ownerNat.OWNER_RACE_LABEL != \"Nonminority\")]\n",
    "Vet911"
   ]
  },
  {
   "cell_type": "code",
   "execution_count": 9,
   "metadata": {},
   "outputs": [
    {
     "data": {
      "text/html": [
       "<div>\n",
       "<style scoped>\n",
       "    .dataframe tbody tr th:only-of-type {\n",
       "        vertical-align: middle;\n",
       "    }\n",
       "\n",
       "    .dataframe tbody tr th {\n",
       "        vertical-align: top;\n",
       "    }\n",
       "\n",
       "    .dataframe thead th {\n",
       "        text-align: right;\n",
       "    }\n",
       "</style>\n",
       "<table border=\"1\" class=\"dataframe\">\n",
       "  <thead>\n",
       "    <tr style=\"text-align: right;\">\n",
       "      <th></th>\n",
       "      <th>GEO_ID</th>\n",
       "      <th>NAME</th>\n",
       "      <th>NAICS2017</th>\n",
       "      <th>NAICS2017_LABEL</th>\n",
       "      <th>OWNER_SEX</th>\n",
       "      <th>OWNER_SEX_LABEL</th>\n",
       "      <th>OWNER_ETH</th>\n",
       "      <th>OWNER_ETH_LABEL</th>\n",
       "      <th>OWNER_RACE</th>\n",
       "      <th>OWNER_RACE_LABEL</th>\n",
       "      <th>OWNER_VET</th>\n",
       "      <th>OWNER_VET_LABEL</th>\n",
       "      <th>QDESC</th>\n",
       "      <th>QDESC_LABEL</th>\n",
       "      <th>OWNCHAR</th>\n",
       "      <th>OWNCHAR_LABEL</th>\n",
       "      <th>YEAR</th>\n",
       "      <th>OWNPDEMP</th>\n",
       "      <th>OWNPDEMP_PCT</th>\n",
       "      <th>us</th>\n",
       "    </tr>\n",
       "  </thead>\n",
       "  <tbody>\n",
       "    <tr>\n",
       "      <th>5303</th>\n",
       "      <td>0100000US</td>\n",
       "      <td>United States</td>\n",
       "      <td>00</td>\n",
       "      <td>Total for all sectors</td>\n",
       "      <td>001</td>\n",
       "      <td>All owners of respondent firms</td>\n",
       "      <td>001</td>\n",
       "      <td>All owners of respondent firms</td>\n",
       "      <td>40</td>\n",
       "      <td>Black or African American</td>\n",
       "      <td>002</td>\n",
       "      <td>Veteran</td>\n",
       "      <td>O14</td>\n",
       "      <td>VETSPECIFIC</td>\n",
       "      <td>MOSY</td>\n",
       "      <td>Served on active duty military service in refe...</td>\n",
       "      <td>2018</td>\n",
       "      <td>0</td>\n",
       "      <td>0.0</td>\n",
       "      <td>1</td>\n",
       "    </tr>\n",
       "    <tr>\n",
       "      <th>5310</th>\n",
       "      <td>0100000US</td>\n",
       "      <td>United States</td>\n",
       "      <td>00</td>\n",
       "      <td>Total for all sectors</td>\n",
       "      <td>001</td>\n",
       "      <td>All owners of respondent firms</td>\n",
       "      <td>001</td>\n",
       "      <td>All owners of respondent firms</td>\n",
       "      <td>50</td>\n",
       "      <td>American Indian and Alaska Native</td>\n",
       "      <td>002</td>\n",
       "      <td>Veteran</td>\n",
       "      <td>O14</td>\n",
       "      <td>VETSPECIFIC</td>\n",
       "      <td>MOSY</td>\n",
       "      <td>Served on active duty military service in refe...</td>\n",
       "      <td>2018</td>\n",
       "      <td>0</td>\n",
       "      <td>0.0</td>\n",
       "      <td>1</td>\n",
       "    </tr>\n",
       "    <tr>\n",
       "      <th>5317</th>\n",
       "      <td>0100000US</td>\n",
       "      <td>United States</td>\n",
       "      <td>00</td>\n",
       "      <td>Total for all sectors</td>\n",
       "      <td>001</td>\n",
       "      <td>All owners of respondent firms</td>\n",
       "      <td>001</td>\n",
       "      <td>All owners of respondent firms</td>\n",
       "      <td>60</td>\n",
       "      <td>Asian</td>\n",
       "      <td>002</td>\n",
       "      <td>Veteran</td>\n",
       "      <td>O14</td>\n",
       "      <td>VETSPECIFIC</td>\n",
       "      <td>MOSY</td>\n",
       "      <td>Served on active duty military service in refe...</td>\n",
       "      <td>2018</td>\n",
       "      <td>93</td>\n",
       "      <td>1.6</td>\n",
       "      <td>1</td>\n",
       "    </tr>\n",
       "    <tr>\n",
       "      <th>6954</th>\n",
       "      <td>0100000US</td>\n",
       "      <td>United States</td>\n",
       "      <td>00</td>\n",
       "      <td>Total for all sectors</td>\n",
       "      <td>001</td>\n",
       "      <td>All owners of respondent firms</td>\n",
       "      <td>001</td>\n",
       "      <td>All owners of respondent firms</td>\n",
       "      <td>30</td>\n",
       "      <td>White</td>\n",
       "      <td>002</td>\n",
       "      <td>Veteran</td>\n",
       "      <td>O14</td>\n",
       "      <td>VETSPECIFIC</td>\n",
       "      <td>MOSY</td>\n",
       "      <td>Served on active duty military service in refe...</td>\n",
       "      <td>2018</td>\n",
       "      <td>1190</td>\n",
       "      <td>0.4</td>\n",
       "      <td>1</td>\n",
       "    </tr>\n",
       "  </tbody>\n",
       "</table>\n",
       "</div>"
      ],
      "text/plain": [
       "         GEO_ID           NAME NAICS2017        NAICS2017_LABEL OWNER_SEX  \\\n",
       "5303  0100000US  United States        00  Total for all sectors       001   \n",
       "5310  0100000US  United States        00  Total for all sectors       001   \n",
       "5317  0100000US  United States        00  Total for all sectors       001   \n",
       "6954  0100000US  United States        00  Total for all sectors       001   \n",
       "\n",
       "                     OWNER_SEX_LABEL OWNER_ETH  \\\n",
       "5303  All owners of respondent firms       001   \n",
       "5310  All owners of respondent firms       001   \n",
       "5317  All owners of respondent firms       001   \n",
       "6954  All owners of respondent firms       001   \n",
       "\n",
       "                     OWNER_ETH_LABEL OWNER_RACE  \\\n",
       "5303  All owners of respondent firms         40   \n",
       "5310  All owners of respondent firms         50   \n",
       "5317  All owners of respondent firms         60   \n",
       "6954  All owners of respondent firms         30   \n",
       "\n",
       "                       OWNER_RACE_LABEL OWNER_VET OWNER_VET_LABEL QDESC  \\\n",
       "5303          Black or African American       002         Veteran   O14   \n",
       "5310  American Indian and Alaska Native       002         Veteran   O14   \n",
       "5317                              Asian       002         Veteran   O14   \n",
       "6954                              White       002         Veteran   O14   \n",
       "\n",
       "      QDESC_LABEL OWNCHAR                                      OWNCHAR_LABEL  \\\n",
       "5303  VETSPECIFIC    MOSY  Served on active duty military service in refe...   \n",
       "5310  VETSPECIFIC    MOSY  Served on active duty military service in refe...   \n",
       "5317  VETSPECIFIC    MOSY  Served on active duty military service in refe...   \n",
       "6954  VETSPECIFIC    MOSY  Served on active duty military service in refe...   \n",
       "\n",
       "      YEAR  OWNPDEMP OWNPDEMP_PCT us  \n",
       "5303  2018         0          0.0  1  \n",
       "5310  2018         0          0.0  1  \n",
       "5317  2018        93          1.6  1  \n",
       "6954  2018      1190          0.4  1  "
      ]
     },
     "execution_count": 9,
     "metadata": {},
     "output_type": "execute_result"
    }
   ],
   "source": [
    "#finding veterans who served active duty in 2018 by race\n",
    "\n",
    "Act2018VetRace = ownerNat[(ownerNat.OWNER_VET_LABEL == 'Veteran') & (ownerNat.OWNCHAR_LABEL == \"Served on active duty military service in reference year\") \n",
    "& (ownerNat.NAICS2017_LABEL == 'Total for all sectors') & (ownerNat.OWNER_RACE_LABEL != \"All owners of respondent firms\") \n",
    "& (ownerNat.OWNER_RACE_LABEL != \"Minority\") & (ownerNat.OWNER_RACE_LABEL != \"Nonminority\")]\n",
    "Act2018VetRace"
   ]
  },
  {
   "cell_type": "code",
   "execution_count": 10,
   "metadata": {},
   "outputs": [
    {
     "data": {
      "text/html": [
       "<div>\n",
       "<style scoped>\n",
       "    .dataframe tbody tr th:only-of-type {\n",
       "        vertical-align: middle;\n",
       "    }\n",
       "\n",
       "    .dataframe tbody tr th {\n",
       "        vertical-align: top;\n",
       "    }\n",
       "\n",
       "    .dataframe thead th {\n",
       "        text-align: right;\n",
       "    }\n",
       "</style>\n",
       "<table border=\"1\" class=\"dataframe\">\n",
       "  <thead>\n",
       "    <tr style=\"text-align: right;\">\n",
       "      <th></th>\n",
       "      <th>GEO_ID</th>\n",
       "      <th>NAME</th>\n",
       "      <th>NAICS2017</th>\n",
       "      <th>NAICS2017_LABEL</th>\n",
       "      <th>OWNER_SEX</th>\n",
       "      <th>OWNER_SEX_LABEL</th>\n",
       "      <th>OWNER_ETH</th>\n",
       "      <th>OWNER_ETH_LABEL</th>\n",
       "      <th>OWNER_RACE</th>\n",
       "      <th>OWNER_RACE_LABEL</th>\n",
       "      <th>OWNER_VET</th>\n",
       "      <th>OWNER_VET_LABEL</th>\n",
       "      <th>QDESC</th>\n",
       "      <th>QDESC_LABEL</th>\n",
       "      <th>OWNCHAR</th>\n",
       "      <th>OWNCHAR_LABEL</th>\n",
       "      <th>YEAR</th>\n",
       "      <th>OWNPDEMP</th>\n",
       "      <th>OWNPDEMP_PCT</th>\n",
       "      <th>us</th>\n",
       "    </tr>\n",
       "  </thead>\n",
       "  <tbody>\n",
       "    <tr>\n",
       "      <th>5302</th>\n",
       "      <td>0100000US</td>\n",
       "      <td>United States</td>\n",
       "      <td>00</td>\n",
       "      <td>Total for all sectors</td>\n",
       "      <td>001</td>\n",
       "      <td>All owners of respondent firms</td>\n",
       "      <td>001</td>\n",
       "      <td>All owners of respondent firms</td>\n",
       "      <td>40</td>\n",
       "      <td>Black or African American</td>\n",
       "      <td>002</td>\n",
       "      <td>Veteran</td>\n",
       "      <td>O14</td>\n",
       "      <td>VETSPECIFIC</td>\n",
       "      <td>MN</td>\n",
       "      <td>Served on post-9/11 active duty military service</td>\n",
       "      <td>2018</td>\n",
       "      <td>1300</td>\n",
       "      <td>16.5</td>\n",
       "      <td>1</td>\n",
       "    </tr>\n",
       "    <tr>\n",
       "      <th>5309</th>\n",
       "      <td>0100000US</td>\n",
       "      <td>United States</td>\n",
       "      <td>00</td>\n",
       "      <td>Total for all sectors</td>\n",
       "      <td>001</td>\n",
       "      <td>All owners of respondent firms</td>\n",
       "      <td>001</td>\n",
       "      <td>All owners of respondent firms</td>\n",
       "      <td>50</td>\n",
       "      <td>American Indian and Alaska Native</td>\n",
       "      <td>002</td>\n",
       "      <td>Veteran</td>\n",
       "      <td>O14</td>\n",
       "      <td>VETSPECIFIC</td>\n",
       "      <td>MN</td>\n",
       "      <td>Served on post-9/11 active duty military service</td>\n",
       "      <td>2018</td>\n",
       "      <td>335</td>\n",
       "      <td>17.4</td>\n",
       "      <td>1</td>\n",
       "    </tr>\n",
       "    <tr>\n",
       "      <th>5316</th>\n",
       "      <td>0100000US</td>\n",
       "      <td>United States</td>\n",
       "      <td>00</td>\n",
       "      <td>Total for all sectors</td>\n",
       "      <td>001</td>\n",
       "      <td>All owners of respondent firms</td>\n",
       "      <td>001</td>\n",
       "      <td>All owners of respondent firms</td>\n",
       "      <td>60</td>\n",
       "      <td>Asian</td>\n",
       "      <td>002</td>\n",
       "      <td>Veteran</td>\n",
       "      <td>O14</td>\n",
       "      <td>VETSPECIFIC</td>\n",
       "      <td>MN</td>\n",
       "      <td>Served on post-9/11 active duty military service</td>\n",
       "      <td>2018</td>\n",
       "      <td>1096</td>\n",
       "      <td>18.4</td>\n",
       "      <td>1</td>\n",
       "    </tr>\n",
       "    <tr>\n",
       "      <th>6953</th>\n",
       "      <td>0100000US</td>\n",
       "      <td>United States</td>\n",
       "      <td>00</td>\n",
       "      <td>Total for all sectors</td>\n",
       "      <td>001</td>\n",
       "      <td>All owners of respondent firms</td>\n",
       "      <td>001</td>\n",
       "      <td>All owners of respondent firms</td>\n",
       "      <td>30</td>\n",
       "      <td>White</td>\n",
       "      <td>002</td>\n",
       "      <td>Veteran</td>\n",
       "      <td>O14</td>\n",
       "      <td>VETSPECIFIC</td>\n",
       "      <td>MN</td>\n",
       "      <td>Served on post-9/11 active duty military service</td>\n",
       "      <td>2018</td>\n",
       "      <td>20934</td>\n",
       "      <td>7.3</td>\n",
       "      <td>1</td>\n",
       "    </tr>\n",
       "  </tbody>\n",
       "</table>\n",
       "</div>"
      ],
      "text/plain": [
       "         GEO_ID           NAME NAICS2017        NAICS2017_LABEL OWNER_SEX  \\\n",
       "5302  0100000US  United States        00  Total for all sectors       001   \n",
       "5309  0100000US  United States        00  Total for all sectors       001   \n",
       "5316  0100000US  United States        00  Total for all sectors       001   \n",
       "6953  0100000US  United States        00  Total for all sectors       001   \n",
       "\n",
       "                     OWNER_SEX_LABEL OWNER_ETH  \\\n",
       "5302  All owners of respondent firms       001   \n",
       "5309  All owners of respondent firms       001   \n",
       "5316  All owners of respondent firms       001   \n",
       "6953  All owners of respondent firms       001   \n",
       "\n",
       "                     OWNER_ETH_LABEL OWNER_RACE  \\\n",
       "5302  All owners of respondent firms         40   \n",
       "5309  All owners of respondent firms         50   \n",
       "5316  All owners of respondent firms         60   \n",
       "6953  All owners of respondent firms         30   \n",
       "\n",
       "                       OWNER_RACE_LABEL OWNER_VET OWNER_VET_LABEL QDESC  \\\n",
       "5302          Black or African American       002         Veteran   O14   \n",
       "5309  American Indian and Alaska Native       002         Veteran   O14   \n",
       "5316                              Asian       002         Veteran   O14   \n",
       "6953                              White       002         Veteran   O14   \n",
       "\n",
       "      QDESC_LABEL OWNCHAR                                     OWNCHAR_LABEL  \\\n",
       "5302  VETSPECIFIC      MN  Served on post-9/11 active duty military service   \n",
       "5309  VETSPECIFIC      MN  Served on post-9/11 active duty military service   \n",
       "5316  VETSPECIFIC      MN  Served on post-9/11 active duty military service   \n",
       "6953  VETSPECIFIC      MN  Served on post-9/11 active duty military service   \n",
       "\n",
       "      YEAR  OWNPDEMP OWNPDEMP_PCT us  \n",
       "5302  2018      1300         16.5  1  \n",
       "5309  2018       335         17.4  1  \n",
       "5316  2018      1096         18.4  1  \n",
       "6953  2018     20934          7.3  1  "
      ]
     },
     "execution_count": 10,
     "metadata": {},
     "output_type": "execute_result"
    }
   ],
   "source": [
    "#removing Native Hawaiian row becasuse they had zero respondents\n",
    "\n",
    "Vet911 = Vet911[Vet911.OWNER_RACE_LABEL != 'Native Hawaiian and Other Pacific Islander']\n",
    "Vet911"
   ]
  },
  {
   "cell_type": "code",
   "execution_count": 19,
   "metadata": {},
   "outputs": [],
   "source": [
    "#selecting for service-disabled and non-service disabled veterans of all genders\n",
    "\n",
    "VDisNonDis = ownerNat[(ownerNat.OWNCHAR == 'FH') | (ownerNat.OWNCHAR == 'FG')]\n",
    "VDisNonDis = VDisNonDis[((VDisNonDis.OWNER_VET_LABEL == 'Veteran'))]"
   ]
  },
  {
   "cell_type": "markdown",
   "metadata": {},
   "source": [
    "Visualization included below:\n",
    "\n",
    "fig01 = Race of Veteran Business Owners who Served post-9/11 Active Duty, 2018 <br>\n",
    "fig02 = Race of Veteran Business Owners who Served Active Duty in 2018 <br>\n",
    "fig03 = Service-Disabled Male Veteran Business Owners by Industry with 1000+ respondents, 2018 <br>\n",
    "fig04 = Non-Service-Disabled Male Veterans Business Owners by Industry with over 1000 respondents, 2018 <br>\n",
    "fig05 = Veteran Business Owners by Gender, 2018 <br>"
   ]
  },
  {
   "cell_type": "code",
   "execution_count": 11,
   "metadata": {},
   "outputs": [
    {
     "data": {
      "application/vnd.plotly.v1+json": {
       "config": {
        "plotlyServerURL": "https://plot.ly"
       },
       "data": [
        {
         "domain": {
          "x": [
           0,
           1
          ],
          "y": [
           0,
           1
          ]
         },
         "hovertemplate": "OWNER_RACE_LABEL=%{label}<br>OWNPDEMP=%{value}<extra></extra>",
         "labels": [
          "Black or African American",
          "American Indian and Alaska Native",
          "Asian",
          "White"
         ],
         "legendgroup": "",
         "name": "",
         "showlegend": true,
         "textinfo": "value+percent",
         "type": "pie",
         "values": [
          1300,
          335,
          1096,
          20934
         ]
        }
       ],
       "layout": {
        "legend": {
         "title": {
          "text": "Race"
         },
         "tracegroupgap": 0,
         "x": 0.01,
         "xanchor": "right",
         "y": 0.99,
         "yanchor": "top"
        },
        "margin": {
         "b": 50,
         "l": 25,
         "r": 25,
         "t": 50
        },
        "showlegend": true,
        "template": {
         "data": {
          "bar": [
           {
            "error_x": {
             "color": "#2a3f5f"
            },
            "error_y": {
             "color": "#2a3f5f"
            },
            "marker": {
             "line": {
              "color": "#E5ECF6",
              "width": 0.5
             },
             "pattern": {
              "fillmode": "overlay",
              "size": 10,
              "solidity": 0.2
             }
            },
            "type": "bar"
           }
          ],
          "barpolar": [
           {
            "marker": {
             "line": {
              "color": "#E5ECF6",
              "width": 0.5
             },
             "pattern": {
              "fillmode": "overlay",
              "size": 10,
              "solidity": 0.2
             }
            },
            "type": "barpolar"
           }
          ],
          "carpet": [
           {
            "aaxis": {
             "endlinecolor": "#2a3f5f",
             "gridcolor": "white",
             "linecolor": "white",
             "minorgridcolor": "white",
             "startlinecolor": "#2a3f5f"
            },
            "baxis": {
             "endlinecolor": "#2a3f5f",
             "gridcolor": "white",
             "linecolor": "white",
             "minorgridcolor": "white",
             "startlinecolor": "#2a3f5f"
            },
            "type": "carpet"
           }
          ],
          "choropleth": [
           {
            "colorbar": {
             "outlinewidth": 0,
             "ticks": ""
            },
            "type": "choropleth"
           }
          ],
          "contour": [
           {
            "colorbar": {
             "outlinewidth": 0,
             "ticks": ""
            },
            "colorscale": [
             [
              0,
              "#0d0887"
             ],
             [
              0.1111111111111111,
              "#46039f"
             ],
             [
              0.2222222222222222,
              "#7201a8"
             ],
             [
              0.3333333333333333,
              "#9c179e"
             ],
             [
              0.4444444444444444,
              "#bd3786"
             ],
             [
              0.5555555555555556,
              "#d8576b"
             ],
             [
              0.6666666666666666,
              "#ed7953"
             ],
             [
              0.7777777777777778,
              "#fb9f3a"
             ],
             [
              0.8888888888888888,
              "#fdca26"
             ],
             [
              1,
              "#f0f921"
             ]
            ],
            "type": "contour"
           }
          ],
          "contourcarpet": [
           {
            "colorbar": {
             "outlinewidth": 0,
             "ticks": ""
            },
            "type": "contourcarpet"
           }
          ],
          "heatmap": [
           {
            "colorbar": {
             "outlinewidth": 0,
             "ticks": ""
            },
            "colorscale": [
             [
              0,
              "#0d0887"
             ],
             [
              0.1111111111111111,
              "#46039f"
             ],
             [
              0.2222222222222222,
              "#7201a8"
             ],
             [
              0.3333333333333333,
              "#9c179e"
             ],
             [
              0.4444444444444444,
              "#bd3786"
             ],
             [
              0.5555555555555556,
              "#d8576b"
             ],
             [
              0.6666666666666666,
              "#ed7953"
             ],
             [
              0.7777777777777778,
              "#fb9f3a"
             ],
             [
              0.8888888888888888,
              "#fdca26"
             ],
             [
              1,
              "#f0f921"
             ]
            ],
            "type": "heatmap"
           }
          ],
          "heatmapgl": [
           {
            "colorbar": {
             "outlinewidth": 0,
             "ticks": ""
            },
            "colorscale": [
             [
              0,
              "#0d0887"
             ],
             [
              0.1111111111111111,
              "#46039f"
             ],
             [
              0.2222222222222222,
              "#7201a8"
             ],
             [
              0.3333333333333333,
              "#9c179e"
             ],
             [
              0.4444444444444444,
              "#bd3786"
             ],
             [
              0.5555555555555556,
              "#d8576b"
             ],
             [
              0.6666666666666666,
              "#ed7953"
             ],
             [
              0.7777777777777778,
              "#fb9f3a"
             ],
             [
              0.8888888888888888,
              "#fdca26"
             ],
             [
              1,
              "#f0f921"
             ]
            ],
            "type": "heatmapgl"
           }
          ],
          "histogram": [
           {
            "marker": {
             "pattern": {
              "fillmode": "overlay",
              "size": 10,
              "solidity": 0.2
             }
            },
            "type": "histogram"
           }
          ],
          "histogram2d": [
           {
            "colorbar": {
             "outlinewidth": 0,
             "ticks": ""
            },
            "colorscale": [
             [
              0,
              "#0d0887"
             ],
             [
              0.1111111111111111,
              "#46039f"
             ],
             [
              0.2222222222222222,
              "#7201a8"
             ],
             [
              0.3333333333333333,
              "#9c179e"
             ],
             [
              0.4444444444444444,
              "#bd3786"
             ],
             [
              0.5555555555555556,
              "#d8576b"
             ],
             [
              0.6666666666666666,
              "#ed7953"
             ],
             [
              0.7777777777777778,
              "#fb9f3a"
             ],
             [
              0.8888888888888888,
              "#fdca26"
             ],
             [
              1,
              "#f0f921"
             ]
            ],
            "type": "histogram2d"
           }
          ],
          "histogram2dcontour": [
           {
            "colorbar": {
             "outlinewidth": 0,
             "ticks": ""
            },
            "colorscale": [
             [
              0,
              "#0d0887"
             ],
             [
              0.1111111111111111,
              "#46039f"
             ],
             [
              0.2222222222222222,
              "#7201a8"
             ],
             [
              0.3333333333333333,
              "#9c179e"
             ],
             [
              0.4444444444444444,
              "#bd3786"
             ],
             [
              0.5555555555555556,
              "#d8576b"
             ],
             [
              0.6666666666666666,
              "#ed7953"
             ],
             [
              0.7777777777777778,
              "#fb9f3a"
             ],
             [
              0.8888888888888888,
              "#fdca26"
             ],
             [
              1,
              "#f0f921"
             ]
            ],
            "type": "histogram2dcontour"
           }
          ],
          "mesh3d": [
           {
            "colorbar": {
             "outlinewidth": 0,
             "ticks": ""
            },
            "type": "mesh3d"
           }
          ],
          "parcoords": [
           {
            "line": {
             "colorbar": {
              "outlinewidth": 0,
              "ticks": ""
             }
            },
            "type": "parcoords"
           }
          ],
          "pie": [
           {
            "automargin": true,
            "type": "pie"
           }
          ],
          "scatter": [
           {
            "marker": {
             "colorbar": {
              "outlinewidth": 0,
              "ticks": ""
             }
            },
            "type": "scatter"
           }
          ],
          "scatter3d": [
           {
            "line": {
             "colorbar": {
              "outlinewidth": 0,
              "ticks": ""
             }
            },
            "marker": {
             "colorbar": {
              "outlinewidth": 0,
              "ticks": ""
             }
            },
            "type": "scatter3d"
           }
          ],
          "scattercarpet": [
           {
            "marker": {
             "colorbar": {
              "outlinewidth": 0,
              "ticks": ""
             }
            },
            "type": "scattercarpet"
           }
          ],
          "scattergeo": [
           {
            "marker": {
             "colorbar": {
              "outlinewidth": 0,
              "ticks": ""
             }
            },
            "type": "scattergeo"
           }
          ],
          "scattergl": [
           {
            "marker": {
             "colorbar": {
              "outlinewidth": 0,
              "ticks": ""
             }
            },
            "type": "scattergl"
           }
          ],
          "scattermapbox": [
           {
            "marker": {
             "colorbar": {
              "outlinewidth": 0,
              "ticks": ""
             }
            },
            "type": "scattermapbox"
           }
          ],
          "scatterpolar": [
           {
            "marker": {
             "colorbar": {
              "outlinewidth": 0,
              "ticks": ""
             }
            },
            "type": "scatterpolar"
           }
          ],
          "scatterpolargl": [
           {
            "marker": {
             "colorbar": {
              "outlinewidth": 0,
              "ticks": ""
             }
            },
            "type": "scatterpolargl"
           }
          ],
          "scatterternary": [
           {
            "marker": {
             "colorbar": {
              "outlinewidth": 0,
              "ticks": ""
             }
            },
            "type": "scatterternary"
           }
          ],
          "surface": [
           {
            "colorbar": {
             "outlinewidth": 0,
             "ticks": ""
            },
            "colorscale": [
             [
              0,
              "#0d0887"
             ],
             [
              0.1111111111111111,
              "#46039f"
             ],
             [
              0.2222222222222222,
              "#7201a8"
             ],
             [
              0.3333333333333333,
              "#9c179e"
             ],
             [
              0.4444444444444444,
              "#bd3786"
             ],
             [
              0.5555555555555556,
              "#d8576b"
             ],
             [
              0.6666666666666666,
              "#ed7953"
             ],
             [
              0.7777777777777778,
              "#fb9f3a"
             ],
             [
              0.8888888888888888,
              "#fdca26"
             ],
             [
              1,
              "#f0f921"
             ]
            ],
            "type": "surface"
           }
          ],
          "table": [
           {
            "cells": {
             "fill": {
              "color": "#EBF0F8"
             },
             "line": {
              "color": "white"
             }
            },
            "header": {
             "fill": {
              "color": "#C8D4E3"
             },
             "line": {
              "color": "white"
             }
            },
            "type": "table"
           }
          ]
         },
         "layout": {
          "annotationdefaults": {
           "arrowcolor": "#2a3f5f",
           "arrowhead": 0,
           "arrowwidth": 1
          },
          "autotypenumbers": "strict",
          "coloraxis": {
           "colorbar": {
            "outlinewidth": 0,
            "ticks": ""
           }
          },
          "colorscale": {
           "diverging": [
            [
             0,
             "#8e0152"
            ],
            [
             0.1,
             "#c51b7d"
            ],
            [
             0.2,
             "#de77ae"
            ],
            [
             0.3,
             "#f1b6da"
            ],
            [
             0.4,
             "#fde0ef"
            ],
            [
             0.5,
             "#f7f7f7"
            ],
            [
             0.6,
             "#e6f5d0"
            ],
            [
             0.7,
             "#b8e186"
            ],
            [
             0.8,
             "#7fbc41"
            ],
            [
             0.9,
             "#4d9221"
            ],
            [
             1,
             "#276419"
            ]
           ],
           "sequential": [
            [
             0,
             "#0d0887"
            ],
            [
             0.1111111111111111,
             "#46039f"
            ],
            [
             0.2222222222222222,
             "#7201a8"
            ],
            [
             0.3333333333333333,
             "#9c179e"
            ],
            [
             0.4444444444444444,
             "#bd3786"
            ],
            [
             0.5555555555555556,
             "#d8576b"
            ],
            [
             0.6666666666666666,
             "#ed7953"
            ],
            [
             0.7777777777777778,
             "#fb9f3a"
            ],
            [
             0.8888888888888888,
             "#fdca26"
            ],
            [
             1,
             "#f0f921"
            ]
           ],
           "sequentialminus": [
            [
             0,
             "#0d0887"
            ],
            [
             0.1111111111111111,
             "#46039f"
            ],
            [
             0.2222222222222222,
             "#7201a8"
            ],
            [
             0.3333333333333333,
             "#9c179e"
            ],
            [
             0.4444444444444444,
             "#bd3786"
            ],
            [
             0.5555555555555556,
             "#d8576b"
            ],
            [
             0.6666666666666666,
             "#ed7953"
            ],
            [
             0.7777777777777778,
             "#fb9f3a"
            ],
            [
             0.8888888888888888,
             "#fdca26"
            ],
            [
             1,
             "#f0f921"
            ]
           ]
          },
          "colorway": [
           "#636efa",
           "#EF553B",
           "#00cc96",
           "#ab63fa",
           "#FFA15A",
           "#19d3f3",
           "#FF6692",
           "#B6E880",
           "#FF97FF",
           "#FECB52"
          ],
          "font": {
           "color": "#2a3f5f"
          },
          "geo": {
           "bgcolor": "white",
           "lakecolor": "white",
           "landcolor": "#E5ECF6",
           "showlakes": true,
           "showland": true,
           "subunitcolor": "white"
          },
          "hoverlabel": {
           "align": "left"
          },
          "hovermode": "closest",
          "mapbox": {
           "style": "light"
          },
          "paper_bgcolor": "white",
          "plot_bgcolor": "#E5ECF6",
          "polar": {
           "angularaxis": {
            "gridcolor": "white",
            "linecolor": "white",
            "ticks": ""
           },
           "bgcolor": "#E5ECF6",
           "radialaxis": {
            "gridcolor": "white",
            "linecolor": "white",
            "ticks": ""
           }
          },
          "scene": {
           "xaxis": {
            "backgroundcolor": "#E5ECF6",
            "gridcolor": "white",
            "gridwidth": 2,
            "linecolor": "white",
            "showbackground": true,
            "ticks": "",
            "zerolinecolor": "white"
           },
           "yaxis": {
            "backgroundcolor": "#E5ECF6",
            "gridcolor": "white",
            "gridwidth": 2,
            "linecolor": "white",
            "showbackground": true,
            "ticks": "",
            "zerolinecolor": "white"
           },
           "zaxis": {
            "backgroundcolor": "#E5ECF6",
            "gridcolor": "white",
            "gridwidth": 2,
            "linecolor": "white",
            "showbackground": true,
            "ticks": "",
            "zerolinecolor": "white"
           }
          },
          "shapedefaults": {
           "line": {
            "color": "#2a3f5f"
           }
          },
          "ternary": {
           "aaxis": {
            "gridcolor": "white",
            "linecolor": "white",
            "ticks": ""
           },
           "baxis": {
            "gridcolor": "white",
            "linecolor": "white",
            "ticks": ""
           },
           "bgcolor": "#E5ECF6",
           "caxis": {
            "gridcolor": "white",
            "linecolor": "white",
            "ticks": ""
           }
          },
          "title": {
           "x": 0.05
          },
          "xaxis": {
           "automargin": true,
           "gridcolor": "white",
           "linecolor": "white",
           "ticks": "",
           "title": {
            "standoff": 15
           },
           "zerolinecolor": "white",
           "zerolinewidth": 2
          },
          "yaxis": {
           "automargin": true,
           "gridcolor": "white",
           "linecolor": "white",
           "ticks": "",
           "title": {
            "standoff": 15
           },
           "zerolinecolor": "white",
           "zerolinewidth": 2
          }
         }
        },
        "title": {
         "text": "Race of Veteran Business Owners who Served post-9/11 Active Duty, 2018"
        }
       }
      }
     },
     "metadata": {},
     "output_type": "display_data"
    }
   ],
   "source": [
    "\n",
    "fig01 = px.pie(Vet911, values=\"OWNPDEMP\", names = \"OWNER_RACE_LABEL\", title ='Race of Veteran Business Owners who Served post-9/11 Active Duty, 2018')\n",
    "\n",
    "\n",
    "fig01.update_layout(showlegend=True, margin=dict(l=25,r=25, t=50, b=50), \n",
    "legend=dict(\n",
    "    yanchor=\"top\",\n",
    "    y=0.99,\n",
    "    xanchor=\"right\",\n",
    "    x=0.01\n",
    "), legend_title_text='Race')\n",
    "\n",
    "fig01.update_traces(textinfo=('value + percent'))\n",
    "\n",
    "\n",
    "\n",
    "fig01.write_image(r\"VetOwnRacePost911Pie.png\")\n",
    "fig01.show()"
   ]
  },
  {
   "cell_type": "code",
   "execution_count": 12,
   "metadata": {},
   "outputs": [
    {
     "data": {
      "application/vnd.plotly.v1+json": {
       "config": {
        "plotlyServerURL": "https://plot.ly"
       },
       "data": [
        {
         "alignmentgroup": "True",
         "hovertemplate": "Number of Owners=%{x}<br>Race=%{y}<extra></extra>",
         "legendgroup": "",
         "marker": {
          "color": "olive",
          "pattern": {
           "shape": ""
          }
         },
         "name": "",
         "offsetgroup": "",
         "orientation": "h",
         "showlegend": false,
         "textposition": "auto",
         "type": "bar",
         "x": [
          93,
          1190
         ],
         "xaxis": "x",
         "y": [
          "Asian",
          "White"
         ],
         "yaxis": "y"
        }
       ],
       "layout": {
        "barmode": "stack",
        "height": 300,
        "legend": {
         "tracegroupgap": 0
        },
        "margin": {
         "b": 40,
         "l": 20,
         "r": 20,
         "t": 40
        },
        "showlegend": false,
        "template": {
         "data": {
          "bar": [
           {
            "error_x": {
             "color": "#2a3f5f"
            },
            "error_y": {
             "color": "#2a3f5f"
            },
            "marker": {
             "line": {
              "color": "#E5ECF6",
              "width": 0.5
             },
             "pattern": {
              "fillmode": "overlay",
              "size": 10,
              "solidity": 0.2
             }
            },
            "type": "bar"
           }
          ],
          "barpolar": [
           {
            "marker": {
             "line": {
              "color": "#E5ECF6",
              "width": 0.5
             },
             "pattern": {
              "fillmode": "overlay",
              "size": 10,
              "solidity": 0.2
             }
            },
            "type": "barpolar"
           }
          ],
          "carpet": [
           {
            "aaxis": {
             "endlinecolor": "#2a3f5f",
             "gridcolor": "white",
             "linecolor": "white",
             "minorgridcolor": "white",
             "startlinecolor": "#2a3f5f"
            },
            "baxis": {
             "endlinecolor": "#2a3f5f",
             "gridcolor": "white",
             "linecolor": "white",
             "minorgridcolor": "white",
             "startlinecolor": "#2a3f5f"
            },
            "type": "carpet"
           }
          ],
          "choropleth": [
           {
            "colorbar": {
             "outlinewidth": 0,
             "ticks": ""
            },
            "type": "choropleth"
           }
          ],
          "contour": [
           {
            "colorbar": {
             "outlinewidth": 0,
             "ticks": ""
            },
            "colorscale": [
             [
              0,
              "#0d0887"
             ],
             [
              0.1111111111111111,
              "#46039f"
             ],
             [
              0.2222222222222222,
              "#7201a8"
             ],
             [
              0.3333333333333333,
              "#9c179e"
             ],
             [
              0.4444444444444444,
              "#bd3786"
             ],
             [
              0.5555555555555556,
              "#d8576b"
             ],
             [
              0.6666666666666666,
              "#ed7953"
             ],
             [
              0.7777777777777778,
              "#fb9f3a"
             ],
             [
              0.8888888888888888,
              "#fdca26"
             ],
             [
              1,
              "#f0f921"
             ]
            ],
            "type": "contour"
           }
          ],
          "contourcarpet": [
           {
            "colorbar": {
             "outlinewidth": 0,
             "ticks": ""
            },
            "type": "contourcarpet"
           }
          ],
          "heatmap": [
           {
            "colorbar": {
             "outlinewidth": 0,
             "ticks": ""
            },
            "colorscale": [
             [
              0,
              "#0d0887"
             ],
             [
              0.1111111111111111,
              "#46039f"
             ],
             [
              0.2222222222222222,
              "#7201a8"
             ],
             [
              0.3333333333333333,
              "#9c179e"
             ],
             [
              0.4444444444444444,
              "#bd3786"
             ],
             [
              0.5555555555555556,
              "#d8576b"
             ],
             [
              0.6666666666666666,
              "#ed7953"
             ],
             [
              0.7777777777777778,
              "#fb9f3a"
             ],
             [
              0.8888888888888888,
              "#fdca26"
             ],
             [
              1,
              "#f0f921"
             ]
            ],
            "type": "heatmap"
           }
          ],
          "heatmapgl": [
           {
            "colorbar": {
             "outlinewidth": 0,
             "ticks": ""
            },
            "colorscale": [
             [
              0,
              "#0d0887"
             ],
             [
              0.1111111111111111,
              "#46039f"
             ],
             [
              0.2222222222222222,
              "#7201a8"
             ],
             [
              0.3333333333333333,
              "#9c179e"
             ],
             [
              0.4444444444444444,
              "#bd3786"
             ],
             [
              0.5555555555555556,
              "#d8576b"
             ],
             [
              0.6666666666666666,
              "#ed7953"
             ],
             [
              0.7777777777777778,
              "#fb9f3a"
             ],
             [
              0.8888888888888888,
              "#fdca26"
             ],
             [
              1,
              "#f0f921"
             ]
            ],
            "type": "heatmapgl"
           }
          ],
          "histogram": [
           {
            "marker": {
             "pattern": {
              "fillmode": "overlay",
              "size": 10,
              "solidity": 0.2
             }
            },
            "type": "histogram"
           }
          ],
          "histogram2d": [
           {
            "colorbar": {
             "outlinewidth": 0,
             "ticks": ""
            },
            "colorscale": [
             [
              0,
              "#0d0887"
             ],
             [
              0.1111111111111111,
              "#46039f"
             ],
             [
              0.2222222222222222,
              "#7201a8"
             ],
             [
              0.3333333333333333,
              "#9c179e"
             ],
             [
              0.4444444444444444,
              "#bd3786"
             ],
             [
              0.5555555555555556,
              "#d8576b"
             ],
             [
              0.6666666666666666,
              "#ed7953"
             ],
             [
              0.7777777777777778,
              "#fb9f3a"
             ],
             [
              0.8888888888888888,
              "#fdca26"
             ],
             [
              1,
              "#f0f921"
             ]
            ],
            "type": "histogram2d"
           }
          ],
          "histogram2dcontour": [
           {
            "colorbar": {
             "outlinewidth": 0,
             "ticks": ""
            },
            "colorscale": [
             [
              0,
              "#0d0887"
             ],
             [
              0.1111111111111111,
              "#46039f"
             ],
             [
              0.2222222222222222,
              "#7201a8"
             ],
             [
              0.3333333333333333,
              "#9c179e"
             ],
             [
              0.4444444444444444,
              "#bd3786"
             ],
             [
              0.5555555555555556,
              "#d8576b"
             ],
             [
              0.6666666666666666,
              "#ed7953"
             ],
             [
              0.7777777777777778,
              "#fb9f3a"
             ],
             [
              0.8888888888888888,
              "#fdca26"
             ],
             [
              1,
              "#f0f921"
             ]
            ],
            "type": "histogram2dcontour"
           }
          ],
          "mesh3d": [
           {
            "colorbar": {
             "outlinewidth": 0,
             "ticks": ""
            },
            "type": "mesh3d"
           }
          ],
          "parcoords": [
           {
            "line": {
             "colorbar": {
              "outlinewidth": 0,
              "ticks": ""
             }
            },
            "type": "parcoords"
           }
          ],
          "pie": [
           {
            "automargin": true,
            "type": "pie"
           }
          ],
          "scatter": [
           {
            "marker": {
             "colorbar": {
              "outlinewidth": 0,
              "ticks": ""
             }
            },
            "type": "scatter"
           }
          ],
          "scatter3d": [
           {
            "line": {
             "colorbar": {
              "outlinewidth": 0,
              "ticks": ""
             }
            },
            "marker": {
             "colorbar": {
              "outlinewidth": 0,
              "ticks": ""
             }
            },
            "type": "scatter3d"
           }
          ],
          "scattercarpet": [
           {
            "marker": {
             "colorbar": {
              "outlinewidth": 0,
              "ticks": ""
             }
            },
            "type": "scattercarpet"
           }
          ],
          "scattergeo": [
           {
            "marker": {
             "colorbar": {
              "outlinewidth": 0,
              "ticks": ""
             }
            },
            "type": "scattergeo"
           }
          ],
          "scattergl": [
           {
            "marker": {
             "colorbar": {
              "outlinewidth": 0,
              "ticks": ""
             }
            },
            "type": "scattergl"
           }
          ],
          "scattermapbox": [
           {
            "marker": {
             "colorbar": {
              "outlinewidth": 0,
              "ticks": ""
             }
            },
            "type": "scattermapbox"
           }
          ],
          "scatterpolar": [
           {
            "marker": {
             "colorbar": {
              "outlinewidth": 0,
              "ticks": ""
             }
            },
            "type": "scatterpolar"
           }
          ],
          "scatterpolargl": [
           {
            "marker": {
             "colorbar": {
              "outlinewidth": 0,
              "ticks": ""
             }
            },
            "type": "scatterpolargl"
           }
          ],
          "scatterternary": [
           {
            "marker": {
             "colorbar": {
              "outlinewidth": 0,
              "ticks": ""
             }
            },
            "type": "scatterternary"
           }
          ],
          "surface": [
           {
            "colorbar": {
             "outlinewidth": 0,
             "ticks": ""
            },
            "colorscale": [
             [
              0,
              "#0d0887"
             ],
             [
              0.1111111111111111,
              "#46039f"
             ],
             [
              0.2222222222222222,
              "#7201a8"
             ],
             [
              0.3333333333333333,
              "#9c179e"
             ],
             [
              0.4444444444444444,
              "#bd3786"
             ],
             [
              0.5555555555555556,
              "#d8576b"
             ],
             [
              0.6666666666666666,
              "#ed7953"
             ],
             [
              0.7777777777777778,
              "#fb9f3a"
             ],
             [
              0.8888888888888888,
              "#fdca26"
             ],
             [
              1,
              "#f0f921"
             ]
            ],
            "type": "surface"
           }
          ],
          "table": [
           {
            "cells": {
             "fill": {
              "color": "#EBF0F8"
             },
             "line": {
              "color": "white"
             }
            },
            "header": {
             "fill": {
              "color": "#C8D4E3"
             },
             "line": {
              "color": "white"
             }
            },
            "type": "table"
           }
          ]
         },
         "layout": {
          "annotationdefaults": {
           "arrowcolor": "#2a3f5f",
           "arrowhead": 0,
           "arrowwidth": 1
          },
          "autotypenumbers": "strict",
          "coloraxis": {
           "colorbar": {
            "outlinewidth": 0,
            "ticks": ""
           }
          },
          "colorscale": {
           "diverging": [
            [
             0,
             "#8e0152"
            ],
            [
             0.1,
             "#c51b7d"
            ],
            [
             0.2,
             "#de77ae"
            ],
            [
             0.3,
             "#f1b6da"
            ],
            [
             0.4,
             "#fde0ef"
            ],
            [
             0.5,
             "#f7f7f7"
            ],
            [
             0.6,
             "#e6f5d0"
            ],
            [
             0.7,
             "#b8e186"
            ],
            [
             0.8,
             "#7fbc41"
            ],
            [
             0.9,
             "#4d9221"
            ],
            [
             1,
             "#276419"
            ]
           ],
           "sequential": [
            [
             0,
             "#0d0887"
            ],
            [
             0.1111111111111111,
             "#46039f"
            ],
            [
             0.2222222222222222,
             "#7201a8"
            ],
            [
             0.3333333333333333,
             "#9c179e"
            ],
            [
             0.4444444444444444,
             "#bd3786"
            ],
            [
             0.5555555555555556,
             "#d8576b"
            ],
            [
             0.6666666666666666,
             "#ed7953"
            ],
            [
             0.7777777777777778,
             "#fb9f3a"
            ],
            [
             0.8888888888888888,
             "#fdca26"
            ],
            [
             1,
             "#f0f921"
            ]
           ],
           "sequentialminus": [
            [
             0,
             "#0d0887"
            ],
            [
             0.1111111111111111,
             "#46039f"
            ],
            [
             0.2222222222222222,
             "#7201a8"
            ],
            [
             0.3333333333333333,
             "#9c179e"
            ],
            [
             0.4444444444444444,
             "#bd3786"
            ],
            [
             0.5555555555555556,
             "#d8576b"
            ],
            [
             0.6666666666666666,
             "#ed7953"
            ],
            [
             0.7777777777777778,
             "#fb9f3a"
            ],
            [
             0.8888888888888888,
             "#fdca26"
            ],
            [
             1,
             "#f0f921"
            ]
           ]
          },
          "colorway": [
           "#636efa",
           "#EF553B",
           "#00cc96",
           "#ab63fa",
           "#FFA15A",
           "#19d3f3",
           "#FF6692",
           "#B6E880",
           "#FF97FF",
           "#FECB52"
          ],
          "font": {
           "color": "#2a3f5f"
          },
          "geo": {
           "bgcolor": "white",
           "lakecolor": "white",
           "landcolor": "#E5ECF6",
           "showlakes": true,
           "showland": true,
           "subunitcolor": "white"
          },
          "hoverlabel": {
           "align": "left"
          },
          "hovermode": "closest",
          "mapbox": {
           "style": "light"
          },
          "paper_bgcolor": "white",
          "plot_bgcolor": "#E5ECF6",
          "polar": {
           "angularaxis": {
            "gridcolor": "white",
            "linecolor": "white",
            "ticks": ""
           },
           "bgcolor": "#E5ECF6",
           "radialaxis": {
            "gridcolor": "white",
            "linecolor": "white",
            "ticks": ""
           }
          },
          "scene": {
           "xaxis": {
            "backgroundcolor": "#E5ECF6",
            "gridcolor": "white",
            "gridwidth": 2,
            "linecolor": "white",
            "showbackground": true,
            "ticks": "",
            "zerolinecolor": "white"
           },
           "yaxis": {
            "backgroundcolor": "#E5ECF6",
            "gridcolor": "white",
            "gridwidth": 2,
            "linecolor": "white",
            "showbackground": true,
            "ticks": "",
            "zerolinecolor": "white"
           },
           "zaxis": {
            "backgroundcolor": "#E5ECF6",
            "gridcolor": "white",
            "gridwidth": 2,
            "linecolor": "white",
            "showbackground": true,
            "ticks": "",
            "zerolinecolor": "white"
           }
          },
          "shapedefaults": {
           "line": {
            "color": "#2a3f5f"
           }
          },
          "ternary": {
           "aaxis": {
            "gridcolor": "white",
            "linecolor": "white",
            "ticks": ""
           },
           "baxis": {
            "gridcolor": "white",
            "linecolor": "white",
            "ticks": ""
           },
           "bgcolor": "#E5ECF6",
           "caxis": {
            "gridcolor": "white",
            "linecolor": "white",
            "ticks": ""
           }
          },
          "title": {
           "x": 0.05
          },
          "xaxis": {
           "automargin": true,
           "gridcolor": "white",
           "linecolor": "white",
           "ticks": "",
           "title": {
            "standoff": 15
           },
           "zerolinecolor": "white",
           "zerolinewidth": 2
          },
          "yaxis": {
           "automargin": true,
           "gridcolor": "white",
           "linecolor": "white",
           "ticks": "",
           "title": {
            "standoff": 15
           },
           "zerolinecolor": "white",
           "zerolinewidth": 2
          }
         }
        },
        "title": {
         "text": "Race of Veteran Business Owners who Served Active Duty in 2018"
        },
        "width": 1000,
        "xaxis": {
         "anchor": "y",
         "domain": [
          0,
          1
         ],
         "title": {
          "text": "Number of Owners"
         }
        },
        "yaxis": {
         "anchor": "x",
         "categoryorder": "total ascending",
         "domain": [
          0,
          1
         ],
         "title": {
          "text": "Race"
         }
        }
       }
      }
     },
     "metadata": {},
     "output_type": "display_data"
    }
   ],
   "source": [
    "fig02 = px.bar(Act2018VetRace[2:], x = 'OWNPDEMP',  y= 'OWNER_RACE_LABEL', title='Race of Veteran Business Owners who Served Active Duty in 2018', orientation=\"h\", color_discrete_sequence =['olive'], labels = {\"OWNPDEMP\": \"Number of Owners\", \"OWNER_RACE_LABEL\": \"Race\"}, height=300, width=1000)\n",
    "\n",
    "\n",
    "fig02.update_layout(showlegend=False, barmode='stack', yaxis={'categoryorder':'total ascending'}, margin=dict(l=20,r=20,t=40,b=40))\n",
    "\n",
    "\n",
    "\n",
    "fig02.write_image(r\"VetOwnRace2018.png\")\n",
    "\n",
    "\n",
    "fig02.show()"
   ]
  },
  {
   "cell_type": "code",
   "execution_count": 13,
   "metadata": {},
   "outputs": [],
   "source": [
    "#filtering business owners to include only those with over a thousand respondents\n",
    "\n",
    "MSerDisVetOwn = MSerDisVetOwn[MSerDisVetOwn.OWNPDEMP > 1000]"
   ]
  },
  {
   "cell_type": "code",
   "execution_count": 14,
   "metadata": {},
   "outputs": [],
   "source": [
    "#filtering business owners to include only those with over a thousand respondents\n",
    "MNonSerDis = MNonServDisVetOwn[MNonServDisVetOwn.OWNPDEMP > 1000]\n"
   ]
  },
  {
   "cell_type": "code",
   "execution_count": 15,
   "metadata": {},
   "outputs": [
    {
     "data": {
      "application/vnd.plotly.v1+json": {
       "config": {
        "plotlyServerURL": "https://plot.ly"
       },
       "data": [
        {
         "alignmentgroup": "True",
         "hovertemplate": "Industry=%{x}<br>Number of Owners=%{y}<extra></extra>",
         "legendgroup": "",
         "marker": {
          "color": "purple",
          "pattern": {
           "shape": ""
          }
         },
         "name": "",
         "offsetgroup": "",
         "orientation": "v",
         "showlegend": false,
         "textposition": "auto",
         "type": "bar",
         "x": [
          "Construction",
          "Manufacturing",
          "Wholesale trade",
          "Retail trade",
          "Transportation and warehousing",
          "Finance and insurance",
          "Real estate and rental and leasing",
          "Professional/Sci/Tech",
          "Admin/Support/Waste Mgmt/Remediation",
          "Health care and social assistance",
          "Accommodation and food services",
          "Other services (except public administration)"
         ],
         "xaxis": "x",
         "y": [
          4416,
          1057,
          1494,
          2921,
          1285,
          1938,
          2174,
          6571,
          2554,
          2544,
          1991,
          2002
         ],
         "yaxis": "y"
        }
       ],
       "layout": {
        "barmode": "stack",
        "height": 750,
        "legend": {
         "tracegroupgap": 0
        },
        "margin": {
         "b": 40,
         "l": 20,
         "r": 20,
         "t": 40
        },
        "showlegend": false,
        "template": {
         "data": {
          "bar": [
           {
            "error_x": {
             "color": "#2a3f5f"
            },
            "error_y": {
             "color": "#2a3f5f"
            },
            "marker": {
             "line": {
              "color": "#E5ECF6",
              "width": 0.5
             },
             "pattern": {
              "fillmode": "overlay",
              "size": 10,
              "solidity": 0.2
             }
            },
            "type": "bar"
           }
          ],
          "barpolar": [
           {
            "marker": {
             "line": {
              "color": "#E5ECF6",
              "width": 0.5
             },
             "pattern": {
              "fillmode": "overlay",
              "size": 10,
              "solidity": 0.2
             }
            },
            "type": "barpolar"
           }
          ],
          "carpet": [
           {
            "aaxis": {
             "endlinecolor": "#2a3f5f",
             "gridcolor": "white",
             "linecolor": "white",
             "minorgridcolor": "white",
             "startlinecolor": "#2a3f5f"
            },
            "baxis": {
             "endlinecolor": "#2a3f5f",
             "gridcolor": "white",
             "linecolor": "white",
             "minorgridcolor": "white",
             "startlinecolor": "#2a3f5f"
            },
            "type": "carpet"
           }
          ],
          "choropleth": [
           {
            "colorbar": {
             "outlinewidth": 0,
             "ticks": ""
            },
            "type": "choropleth"
           }
          ],
          "contour": [
           {
            "colorbar": {
             "outlinewidth": 0,
             "ticks": ""
            },
            "colorscale": [
             [
              0,
              "#0d0887"
             ],
             [
              0.1111111111111111,
              "#46039f"
             ],
             [
              0.2222222222222222,
              "#7201a8"
             ],
             [
              0.3333333333333333,
              "#9c179e"
             ],
             [
              0.4444444444444444,
              "#bd3786"
             ],
             [
              0.5555555555555556,
              "#d8576b"
             ],
             [
              0.6666666666666666,
              "#ed7953"
             ],
             [
              0.7777777777777778,
              "#fb9f3a"
             ],
             [
              0.8888888888888888,
              "#fdca26"
             ],
             [
              1,
              "#f0f921"
             ]
            ],
            "type": "contour"
           }
          ],
          "contourcarpet": [
           {
            "colorbar": {
             "outlinewidth": 0,
             "ticks": ""
            },
            "type": "contourcarpet"
           }
          ],
          "heatmap": [
           {
            "colorbar": {
             "outlinewidth": 0,
             "ticks": ""
            },
            "colorscale": [
             [
              0,
              "#0d0887"
             ],
             [
              0.1111111111111111,
              "#46039f"
             ],
             [
              0.2222222222222222,
              "#7201a8"
             ],
             [
              0.3333333333333333,
              "#9c179e"
             ],
             [
              0.4444444444444444,
              "#bd3786"
             ],
             [
              0.5555555555555556,
              "#d8576b"
             ],
             [
              0.6666666666666666,
              "#ed7953"
             ],
             [
              0.7777777777777778,
              "#fb9f3a"
             ],
             [
              0.8888888888888888,
              "#fdca26"
             ],
             [
              1,
              "#f0f921"
             ]
            ],
            "type": "heatmap"
           }
          ],
          "heatmapgl": [
           {
            "colorbar": {
             "outlinewidth": 0,
             "ticks": ""
            },
            "colorscale": [
             [
              0,
              "#0d0887"
             ],
             [
              0.1111111111111111,
              "#46039f"
             ],
             [
              0.2222222222222222,
              "#7201a8"
             ],
             [
              0.3333333333333333,
              "#9c179e"
             ],
             [
              0.4444444444444444,
              "#bd3786"
             ],
             [
              0.5555555555555556,
              "#d8576b"
             ],
             [
              0.6666666666666666,
              "#ed7953"
             ],
             [
              0.7777777777777778,
              "#fb9f3a"
             ],
             [
              0.8888888888888888,
              "#fdca26"
             ],
             [
              1,
              "#f0f921"
             ]
            ],
            "type": "heatmapgl"
           }
          ],
          "histogram": [
           {
            "marker": {
             "pattern": {
              "fillmode": "overlay",
              "size": 10,
              "solidity": 0.2
             }
            },
            "type": "histogram"
           }
          ],
          "histogram2d": [
           {
            "colorbar": {
             "outlinewidth": 0,
             "ticks": ""
            },
            "colorscale": [
             [
              0,
              "#0d0887"
             ],
             [
              0.1111111111111111,
              "#46039f"
             ],
             [
              0.2222222222222222,
              "#7201a8"
             ],
             [
              0.3333333333333333,
              "#9c179e"
             ],
             [
              0.4444444444444444,
              "#bd3786"
             ],
             [
              0.5555555555555556,
              "#d8576b"
             ],
             [
              0.6666666666666666,
              "#ed7953"
             ],
             [
              0.7777777777777778,
              "#fb9f3a"
             ],
             [
              0.8888888888888888,
              "#fdca26"
             ],
             [
              1,
              "#f0f921"
             ]
            ],
            "type": "histogram2d"
           }
          ],
          "histogram2dcontour": [
           {
            "colorbar": {
             "outlinewidth": 0,
             "ticks": ""
            },
            "colorscale": [
             [
              0,
              "#0d0887"
             ],
             [
              0.1111111111111111,
              "#46039f"
             ],
             [
              0.2222222222222222,
              "#7201a8"
             ],
             [
              0.3333333333333333,
              "#9c179e"
             ],
             [
              0.4444444444444444,
              "#bd3786"
             ],
             [
              0.5555555555555556,
              "#d8576b"
             ],
             [
              0.6666666666666666,
              "#ed7953"
             ],
             [
              0.7777777777777778,
              "#fb9f3a"
             ],
             [
              0.8888888888888888,
              "#fdca26"
             ],
             [
              1,
              "#f0f921"
             ]
            ],
            "type": "histogram2dcontour"
           }
          ],
          "mesh3d": [
           {
            "colorbar": {
             "outlinewidth": 0,
             "ticks": ""
            },
            "type": "mesh3d"
           }
          ],
          "parcoords": [
           {
            "line": {
             "colorbar": {
              "outlinewidth": 0,
              "ticks": ""
             }
            },
            "type": "parcoords"
           }
          ],
          "pie": [
           {
            "automargin": true,
            "type": "pie"
           }
          ],
          "scatter": [
           {
            "marker": {
             "colorbar": {
              "outlinewidth": 0,
              "ticks": ""
             }
            },
            "type": "scatter"
           }
          ],
          "scatter3d": [
           {
            "line": {
             "colorbar": {
              "outlinewidth": 0,
              "ticks": ""
             }
            },
            "marker": {
             "colorbar": {
              "outlinewidth": 0,
              "ticks": ""
             }
            },
            "type": "scatter3d"
           }
          ],
          "scattercarpet": [
           {
            "marker": {
             "colorbar": {
              "outlinewidth": 0,
              "ticks": ""
             }
            },
            "type": "scattercarpet"
           }
          ],
          "scattergeo": [
           {
            "marker": {
             "colorbar": {
              "outlinewidth": 0,
              "ticks": ""
             }
            },
            "type": "scattergeo"
           }
          ],
          "scattergl": [
           {
            "marker": {
             "colorbar": {
              "outlinewidth": 0,
              "ticks": ""
             }
            },
            "type": "scattergl"
           }
          ],
          "scattermapbox": [
           {
            "marker": {
             "colorbar": {
              "outlinewidth": 0,
              "ticks": ""
             }
            },
            "type": "scattermapbox"
           }
          ],
          "scatterpolar": [
           {
            "marker": {
             "colorbar": {
              "outlinewidth": 0,
              "ticks": ""
             }
            },
            "type": "scatterpolar"
           }
          ],
          "scatterpolargl": [
           {
            "marker": {
             "colorbar": {
              "outlinewidth": 0,
              "ticks": ""
             }
            },
            "type": "scatterpolargl"
           }
          ],
          "scatterternary": [
           {
            "marker": {
             "colorbar": {
              "outlinewidth": 0,
              "ticks": ""
             }
            },
            "type": "scatterternary"
           }
          ],
          "surface": [
           {
            "colorbar": {
             "outlinewidth": 0,
             "ticks": ""
            },
            "colorscale": [
             [
              0,
              "#0d0887"
             ],
             [
              0.1111111111111111,
              "#46039f"
             ],
             [
              0.2222222222222222,
              "#7201a8"
             ],
             [
              0.3333333333333333,
              "#9c179e"
             ],
             [
              0.4444444444444444,
              "#bd3786"
             ],
             [
              0.5555555555555556,
              "#d8576b"
             ],
             [
              0.6666666666666666,
              "#ed7953"
             ],
             [
              0.7777777777777778,
              "#fb9f3a"
             ],
             [
              0.8888888888888888,
              "#fdca26"
             ],
             [
              1,
              "#f0f921"
             ]
            ],
            "type": "surface"
           }
          ],
          "table": [
           {
            "cells": {
             "fill": {
              "color": "#EBF0F8"
             },
             "line": {
              "color": "white"
             }
            },
            "header": {
             "fill": {
              "color": "#C8D4E3"
             },
             "line": {
              "color": "white"
             }
            },
            "type": "table"
           }
          ]
         },
         "layout": {
          "annotationdefaults": {
           "arrowcolor": "#2a3f5f",
           "arrowhead": 0,
           "arrowwidth": 1
          },
          "autotypenumbers": "strict",
          "coloraxis": {
           "colorbar": {
            "outlinewidth": 0,
            "ticks": ""
           }
          },
          "colorscale": {
           "diverging": [
            [
             0,
             "#8e0152"
            ],
            [
             0.1,
             "#c51b7d"
            ],
            [
             0.2,
             "#de77ae"
            ],
            [
             0.3,
             "#f1b6da"
            ],
            [
             0.4,
             "#fde0ef"
            ],
            [
             0.5,
             "#f7f7f7"
            ],
            [
             0.6,
             "#e6f5d0"
            ],
            [
             0.7,
             "#b8e186"
            ],
            [
             0.8,
             "#7fbc41"
            ],
            [
             0.9,
             "#4d9221"
            ],
            [
             1,
             "#276419"
            ]
           ],
           "sequential": [
            [
             0,
             "#0d0887"
            ],
            [
             0.1111111111111111,
             "#46039f"
            ],
            [
             0.2222222222222222,
             "#7201a8"
            ],
            [
             0.3333333333333333,
             "#9c179e"
            ],
            [
             0.4444444444444444,
             "#bd3786"
            ],
            [
             0.5555555555555556,
             "#d8576b"
            ],
            [
             0.6666666666666666,
             "#ed7953"
            ],
            [
             0.7777777777777778,
             "#fb9f3a"
            ],
            [
             0.8888888888888888,
             "#fdca26"
            ],
            [
             1,
             "#f0f921"
            ]
           ],
           "sequentialminus": [
            [
             0,
             "#0d0887"
            ],
            [
             0.1111111111111111,
             "#46039f"
            ],
            [
             0.2222222222222222,
             "#7201a8"
            ],
            [
             0.3333333333333333,
             "#9c179e"
            ],
            [
             0.4444444444444444,
             "#bd3786"
            ],
            [
             0.5555555555555556,
             "#d8576b"
            ],
            [
             0.6666666666666666,
             "#ed7953"
            ],
            [
             0.7777777777777778,
             "#fb9f3a"
            ],
            [
             0.8888888888888888,
             "#fdca26"
            ],
            [
             1,
             "#f0f921"
            ]
           ]
          },
          "colorway": [
           "#636efa",
           "#EF553B",
           "#00cc96",
           "#ab63fa",
           "#FFA15A",
           "#19d3f3",
           "#FF6692",
           "#B6E880",
           "#FF97FF",
           "#FECB52"
          ],
          "font": {
           "color": "#2a3f5f"
          },
          "geo": {
           "bgcolor": "white",
           "lakecolor": "white",
           "landcolor": "#E5ECF6",
           "showlakes": true,
           "showland": true,
           "subunitcolor": "white"
          },
          "hoverlabel": {
           "align": "left"
          },
          "hovermode": "closest",
          "mapbox": {
           "style": "light"
          },
          "paper_bgcolor": "white",
          "plot_bgcolor": "#E5ECF6",
          "polar": {
           "angularaxis": {
            "gridcolor": "white",
            "linecolor": "white",
            "ticks": ""
           },
           "bgcolor": "#E5ECF6",
           "radialaxis": {
            "gridcolor": "white",
            "linecolor": "white",
            "ticks": ""
           }
          },
          "scene": {
           "xaxis": {
            "backgroundcolor": "#E5ECF6",
            "gridcolor": "white",
            "gridwidth": 2,
            "linecolor": "white",
            "showbackground": true,
            "ticks": "",
            "zerolinecolor": "white"
           },
           "yaxis": {
            "backgroundcolor": "#E5ECF6",
            "gridcolor": "white",
            "gridwidth": 2,
            "linecolor": "white",
            "showbackground": true,
            "ticks": "",
            "zerolinecolor": "white"
           },
           "zaxis": {
            "backgroundcolor": "#E5ECF6",
            "gridcolor": "white",
            "gridwidth": 2,
            "linecolor": "white",
            "showbackground": true,
            "ticks": "",
            "zerolinecolor": "white"
           }
          },
          "shapedefaults": {
           "line": {
            "color": "#2a3f5f"
           }
          },
          "ternary": {
           "aaxis": {
            "gridcolor": "white",
            "linecolor": "white",
            "ticks": ""
           },
           "baxis": {
            "gridcolor": "white",
            "linecolor": "white",
            "ticks": ""
           },
           "bgcolor": "#E5ECF6",
           "caxis": {
            "gridcolor": "white",
            "linecolor": "white",
            "ticks": ""
           }
          },
          "title": {
           "x": 0.05
          },
          "xaxis": {
           "automargin": true,
           "gridcolor": "white",
           "linecolor": "white",
           "ticks": "",
           "title": {
            "standoff": 15
           },
           "zerolinecolor": "white",
           "zerolinewidth": 2
          },
          "yaxis": {
           "automargin": true,
           "gridcolor": "white",
           "linecolor": "white",
           "ticks": "",
           "title": {
            "standoff": 15
           },
           "zerolinecolor": "white",
           "zerolinewidth": 2
          }
         }
        },
        "title": {
         "text": "Service-Disabled Male Veteran Business Owners by Industry with over 1000 respondents, 2018"
        },
        "width": 1000,
        "xaxis": {
         "anchor": "y",
         "categoryorder": "total descending",
         "domain": [
          0,
          1
         ],
         "tickangle": 45,
         "title": {
          "text": "Industry"
         }
        },
        "yaxis": {
         "anchor": "x",
         "domain": [
          0,
          1
         ],
         "title": {
          "text": "Number of Owners"
         }
        }
       }
      }
     },
     "metadata": {},
     "output_type": "display_data"
    }
   ],
   "source": [
    "\n",
    "fig03 = px.bar(MSerDisVetOwn[1:], x = 'NAICS2017_LABEL',  y= 'OWNPDEMP', title=\"Service-Disabled Male Veteran Business Owners by Industry with over 1000 respondents, 2018\", color_discrete_sequence =['purple']*len(MSerDisVetOwn), labels = {\"OWNPDEMP\": \"Number of Owners\", \"NAICS2017_LABEL\": \"Industry\"}, height=750, width=1000)\n",
    "\n",
    "\n",
    "\n",
    "fig03.update_layout(showlegend=False, barmode='stack', xaxis={'categoryorder':'total descending'}, margin=dict(l=20,r=20,t=40,b=40))\n",
    "\n",
    "fig03.update_xaxes(tickangle=45)\n",
    "\n",
    "\n",
    "fig03.write_image(r\"VetOwnMSD1000plus.png\")\n",
    "\n",
    "\n",
    "fig03.show()"
   ]
  },
  {
   "cell_type": "code",
   "execution_count": 16,
   "metadata": {},
   "outputs": [
    {
     "data": {
      "application/vnd.plotly.v1+json": {
       "config": {
        "plotlyServerURL": "https://plot.ly"
       },
       "data": [
        {
         "alignmentgroup": "True",
         "hovertemplate": "Industry=%{x}<br>Number of Owners=%{y}<extra></extra>",
         "legendgroup": "",
         "marker": {
          "color": "darkgreen",
          "pattern": {
           "shape": ""
          }
         },
         "name": "",
         "offsetgroup": "",
         "orientation": "v",
         "showlegend": false,
         "textposition": "auto",
         "type": "bar",
         "x": [
          "Agriculture/Forestry/Fishing/Hunting",
          "Construction",
          "Manufacturing",
          "Wholesale trade",
          "Retail trade",
          "Transportation and warehousing",
          "Information",
          "Finance and insurance",
          "Real estate and rental and leasing",
          "Professional/Sci/Tech",
          "Management of companies and enterprises",
          "Admin/Support/Waste Mgmt/Remediation",
          "Educational services",
          "Health care and social assistance",
          "Arts, entertainment, and recreation",
          "Accommodation and food services",
          "Other services (except public administration)"
         ],
         "xaxis": "x",
         "y": [
          1309,
          36578,
          14797,
          16750,
          26318,
          6274,
          2911,
          14142,
          18436,
          41775,
          1233,
          16340,
          1596,
          25757,
          4177,
          15200,
          16828
         ],
         "yaxis": "y"
        }
       ],
       "layout": {
        "barmode": "stack",
        "height": 750,
        "legend": {
         "tracegroupgap": 0
        },
        "margin": {
         "b": 40,
         "l": 20,
         "r": 20,
         "t": 40
        },
        "showlegend": false,
        "template": {
         "data": {
          "bar": [
           {
            "error_x": {
             "color": "#2a3f5f"
            },
            "error_y": {
             "color": "#2a3f5f"
            },
            "marker": {
             "line": {
              "color": "#E5ECF6",
              "width": 0.5
             },
             "pattern": {
              "fillmode": "overlay",
              "size": 10,
              "solidity": 0.2
             }
            },
            "type": "bar"
           }
          ],
          "barpolar": [
           {
            "marker": {
             "line": {
              "color": "#E5ECF6",
              "width": 0.5
             },
             "pattern": {
              "fillmode": "overlay",
              "size": 10,
              "solidity": 0.2
             }
            },
            "type": "barpolar"
           }
          ],
          "carpet": [
           {
            "aaxis": {
             "endlinecolor": "#2a3f5f",
             "gridcolor": "white",
             "linecolor": "white",
             "minorgridcolor": "white",
             "startlinecolor": "#2a3f5f"
            },
            "baxis": {
             "endlinecolor": "#2a3f5f",
             "gridcolor": "white",
             "linecolor": "white",
             "minorgridcolor": "white",
             "startlinecolor": "#2a3f5f"
            },
            "type": "carpet"
           }
          ],
          "choropleth": [
           {
            "colorbar": {
             "outlinewidth": 0,
             "ticks": ""
            },
            "type": "choropleth"
           }
          ],
          "contour": [
           {
            "colorbar": {
             "outlinewidth": 0,
             "ticks": ""
            },
            "colorscale": [
             [
              0,
              "#0d0887"
             ],
             [
              0.1111111111111111,
              "#46039f"
             ],
             [
              0.2222222222222222,
              "#7201a8"
             ],
             [
              0.3333333333333333,
              "#9c179e"
             ],
             [
              0.4444444444444444,
              "#bd3786"
             ],
             [
              0.5555555555555556,
              "#d8576b"
             ],
             [
              0.6666666666666666,
              "#ed7953"
             ],
             [
              0.7777777777777778,
              "#fb9f3a"
             ],
             [
              0.8888888888888888,
              "#fdca26"
             ],
             [
              1,
              "#f0f921"
             ]
            ],
            "type": "contour"
           }
          ],
          "contourcarpet": [
           {
            "colorbar": {
             "outlinewidth": 0,
             "ticks": ""
            },
            "type": "contourcarpet"
           }
          ],
          "heatmap": [
           {
            "colorbar": {
             "outlinewidth": 0,
             "ticks": ""
            },
            "colorscale": [
             [
              0,
              "#0d0887"
             ],
             [
              0.1111111111111111,
              "#46039f"
             ],
             [
              0.2222222222222222,
              "#7201a8"
             ],
             [
              0.3333333333333333,
              "#9c179e"
             ],
             [
              0.4444444444444444,
              "#bd3786"
             ],
             [
              0.5555555555555556,
              "#d8576b"
             ],
             [
              0.6666666666666666,
              "#ed7953"
             ],
             [
              0.7777777777777778,
              "#fb9f3a"
             ],
             [
              0.8888888888888888,
              "#fdca26"
             ],
             [
              1,
              "#f0f921"
             ]
            ],
            "type": "heatmap"
           }
          ],
          "heatmapgl": [
           {
            "colorbar": {
             "outlinewidth": 0,
             "ticks": ""
            },
            "colorscale": [
             [
              0,
              "#0d0887"
             ],
             [
              0.1111111111111111,
              "#46039f"
             ],
             [
              0.2222222222222222,
              "#7201a8"
             ],
             [
              0.3333333333333333,
              "#9c179e"
             ],
             [
              0.4444444444444444,
              "#bd3786"
             ],
             [
              0.5555555555555556,
              "#d8576b"
             ],
             [
              0.6666666666666666,
              "#ed7953"
             ],
             [
              0.7777777777777778,
              "#fb9f3a"
             ],
             [
              0.8888888888888888,
              "#fdca26"
             ],
             [
              1,
              "#f0f921"
             ]
            ],
            "type": "heatmapgl"
           }
          ],
          "histogram": [
           {
            "marker": {
             "pattern": {
              "fillmode": "overlay",
              "size": 10,
              "solidity": 0.2
             }
            },
            "type": "histogram"
           }
          ],
          "histogram2d": [
           {
            "colorbar": {
             "outlinewidth": 0,
             "ticks": ""
            },
            "colorscale": [
             [
              0,
              "#0d0887"
             ],
             [
              0.1111111111111111,
              "#46039f"
             ],
             [
              0.2222222222222222,
              "#7201a8"
             ],
             [
              0.3333333333333333,
              "#9c179e"
             ],
             [
              0.4444444444444444,
              "#bd3786"
             ],
             [
              0.5555555555555556,
              "#d8576b"
             ],
             [
              0.6666666666666666,
              "#ed7953"
             ],
             [
              0.7777777777777778,
              "#fb9f3a"
             ],
             [
              0.8888888888888888,
              "#fdca26"
             ],
             [
              1,
              "#f0f921"
             ]
            ],
            "type": "histogram2d"
           }
          ],
          "histogram2dcontour": [
           {
            "colorbar": {
             "outlinewidth": 0,
             "ticks": ""
            },
            "colorscale": [
             [
              0,
              "#0d0887"
             ],
             [
              0.1111111111111111,
              "#46039f"
             ],
             [
              0.2222222222222222,
              "#7201a8"
             ],
             [
              0.3333333333333333,
              "#9c179e"
             ],
             [
              0.4444444444444444,
              "#bd3786"
             ],
             [
              0.5555555555555556,
              "#d8576b"
             ],
             [
              0.6666666666666666,
              "#ed7953"
             ],
             [
              0.7777777777777778,
              "#fb9f3a"
             ],
             [
              0.8888888888888888,
              "#fdca26"
             ],
             [
              1,
              "#f0f921"
             ]
            ],
            "type": "histogram2dcontour"
           }
          ],
          "mesh3d": [
           {
            "colorbar": {
             "outlinewidth": 0,
             "ticks": ""
            },
            "type": "mesh3d"
           }
          ],
          "parcoords": [
           {
            "line": {
             "colorbar": {
              "outlinewidth": 0,
              "ticks": ""
             }
            },
            "type": "parcoords"
           }
          ],
          "pie": [
           {
            "automargin": true,
            "type": "pie"
           }
          ],
          "scatter": [
           {
            "marker": {
             "colorbar": {
              "outlinewidth": 0,
              "ticks": ""
             }
            },
            "type": "scatter"
           }
          ],
          "scatter3d": [
           {
            "line": {
             "colorbar": {
              "outlinewidth": 0,
              "ticks": ""
             }
            },
            "marker": {
             "colorbar": {
              "outlinewidth": 0,
              "ticks": ""
             }
            },
            "type": "scatter3d"
           }
          ],
          "scattercarpet": [
           {
            "marker": {
             "colorbar": {
              "outlinewidth": 0,
              "ticks": ""
             }
            },
            "type": "scattercarpet"
           }
          ],
          "scattergeo": [
           {
            "marker": {
             "colorbar": {
              "outlinewidth": 0,
              "ticks": ""
             }
            },
            "type": "scattergeo"
           }
          ],
          "scattergl": [
           {
            "marker": {
             "colorbar": {
              "outlinewidth": 0,
              "ticks": ""
             }
            },
            "type": "scattergl"
           }
          ],
          "scattermapbox": [
           {
            "marker": {
             "colorbar": {
              "outlinewidth": 0,
              "ticks": ""
             }
            },
            "type": "scattermapbox"
           }
          ],
          "scatterpolar": [
           {
            "marker": {
             "colorbar": {
              "outlinewidth": 0,
              "ticks": ""
             }
            },
            "type": "scatterpolar"
           }
          ],
          "scatterpolargl": [
           {
            "marker": {
             "colorbar": {
              "outlinewidth": 0,
              "ticks": ""
             }
            },
            "type": "scatterpolargl"
           }
          ],
          "scatterternary": [
           {
            "marker": {
             "colorbar": {
              "outlinewidth": 0,
              "ticks": ""
             }
            },
            "type": "scatterternary"
           }
          ],
          "surface": [
           {
            "colorbar": {
             "outlinewidth": 0,
             "ticks": ""
            },
            "colorscale": [
             [
              0,
              "#0d0887"
             ],
             [
              0.1111111111111111,
              "#46039f"
             ],
             [
              0.2222222222222222,
              "#7201a8"
             ],
             [
              0.3333333333333333,
              "#9c179e"
             ],
             [
              0.4444444444444444,
              "#bd3786"
             ],
             [
              0.5555555555555556,
              "#d8576b"
             ],
             [
              0.6666666666666666,
              "#ed7953"
             ],
             [
              0.7777777777777778,
              "#fb9f3a"
             ],
             [
              0.8888888888888888,
              "#fdca26"
             ],
             [
              1,
              "#f0f921"
             ]
            ],
            "type": "surface"
           }
          ],
          "table": [
           {
            "cells": {
             "fill": {
              "color": "#EBF0F8"
             },
             "line": {
              "color": "white"
             }
            },
            "header": {
             "fill": {
              "color": "#C8D4E3"
             },
             "line": {
              "color": "white"
             }
            },
            "type": "table"
           }
          ]
         },
         "layout": {
          "annotationdefaults": {
           "arrowcolor": "#2a3f5f",
           "arrowhead": 0,
           "arrowwidth": 1
          },
          "autotypenumbers": "strict",
          "coloraxis": {
           "colorbar": {
            "outlinewidth": 0,
            "ticks": ""
           }
          },
          "colorscale": {
           "diverging": [
            [
             0,
             "#8e0152"
            ],
            [
             0.1,
             "#c51b7d"
            ],
            [
             0.2,
             "#de77ae"
            ],
            [
             0.3,
             "#f1b6da"
            ],
            [
             0.4,
             "#fde0ef"
            ],
            [
             0.5,
             "#f7f7f7"
            ],
            [
             0.6,
             "#e6f5d0"
            ],
            [
             0.7,
             "#b8e186"
            ],
            [
             0.8,
             "#7fbc41"
            ],
            [
             0.9,
             "#4d9221"
            ],
            [
             1,
             "#276419"
            ]
           ],
           "sequential": [
            [
             0,
             "#0d0887"
            ],
            [
             0.1111111111111111,
             "#46039f"
            ],
            [
             0.2222222222222222,
             "#7201a8"
            ],
            [
             0.3333333333333333,
             "#9c179e"
            ],
            [
             0.4444444444444444,
             "#bd3786"
            ],
            [
             0.5555555555555556,
             "#d8576b"
            ],
            [
             0.6666666666666666,
             "#ed7953"
            ],
            [
             0.7777777777777778,
             "#fb9f3a"
            ],
            [
             0.8888888888888888,
             "#fdca26"
            ],
            [
             1,
             "#f0f921"
            ]
           ],
           "sequentialminus": [
            [
             0,
             "#0d0887"
            ],
            [
             0.1111111111111111,
             "#46039f"
            ],
            [
             0.2222222222222222,
             "#7201a8"
            ],
            [
             0.3333333333333333,
             "#9c179e"
            ],
            [
             0.4444444444444444,
             "#bd3786"
            ],
            [
             0.5555555555555556,
             "#d8576b"
            ],
            [
             0.6666666666666666,
             "#ed7953"
            ],
            [
             0.7777777777777778,
             "#fb9f3a"
            ],
            [
             0.8888888888888888,
             "#fdca26"
            ],
            [
             1,
             "#f0f921"
            ]
           ]
          },
          "colorway": [
           "#636efa",
           "#EF553B",
           "#00cc96",
           "#ab63fa",
           "#FFA15A",
           "#19d3f3",
           "#FF6692",
           "#B6E880",
           "#FF97FF",
           "#FECB52"
          ],
          "font": {
           "color": "#2a3f5f"
          },
          "geo": {
           "bgcolor": "white",
           "lakecolor": "white",
           "landcolor": "#E5ECF6",
           "showlakes": true,
           "showland": true,
           "subunitcolor": "white"
          },
          "hoverlabel": {
           "align": "left"
          },
          "hovermode": "closest",
          "mapbox": {
           "style": "light"
          },
          "paper_bgcolor": "white",
          "plot_bgcolor": "#E5ECF6",
          "polar": {
           "angularaxis": {
            "gridcolor": "white",
            "linecolor": "white",
            "ticks": ""
           },
           "bgcolor": "#E5ECF6",
           "radialaxis": {
            "gridcolor": "white",
            "linecolor": "white",
            "ticks": ""
           }
          },
          "scene": {
           "xaxis": {
            "backgroundcolor": "#E5ECF6",
            "gridcolor": "white",
            "gridwidth": 2,
            "linecolor": "white",
            "showbackground": true,
            "ticks": "",
            "zerolinecolor": "white"
           },
           "yaxis": {
            "backgroundcolor": "#E5ECF6",
            "gridcolor": "white",
            "gridwidth": 2,
            "linecolor": "white",
            "showbackground": true,
            "ticks": "",
            "zerolinecolor": "white"
           },
           "zaxis": {
            "backgroundcolor": "#E5ECF6",
            "gridcolor": "white",
            "gridwidth": 2,
            "linecolor": "white",
            "showbackground": true,
            "ticks": "",
            "zerolinecolor": "white"
           }
          },
          "shapedefaults": {
           "line": {
            "color": "#2a3f5f"
           }
          },
          "ternary": {
           "aaxis": {
            "gridcolor": "white",
            "linecolor": "white",
            "ticks": ""
           },
           "baxis": {
            "gridcolor": "white",
            "linecolor": "white",
            "ticks": ""
           },
           "bgcolor": "#E5ECF6",
           "caxis": {
            "gridcolor": "white",
            "linecolor": "white",
            "ticks": ""
           }
          },
          "title": {
           "x": 0.05
          },
          "xaxis": {
           "automargin": true,
           "gridcolor": "white",
           "linecolor": "white",
           "ticks": "",
           "title": {
            "standoff": 15
           },
           "zerolinecolor": "white",
           "zerolinewidth": 2
          },
          "yaxis": {
           "automargin": true,
           "gridcolor": "white",
           "linecolor": "white",
           "ticks": "",
           "title": {
            "standoff": 15
           },
           "zerolinecolor": "white",
           "zerolinewidth": 2
          }
         }
        },
        "title": {
         "text": "Non-Service-Disabled Male Veterans Business Owners by Industry with over 1000 respondents, 2018"
        },
        "width": 1000,
        "xaxis": {
         "anchor": "y",
         "categoryorder": "total descending",
         "domain": [
          0,
          1
         ],
         "tickangle": 45,
         "title": {
          "text": "Industry"
         }
        },
        "yaxis": {
         "anchor": "x",
         "domain": [
          0,
          1
         ],
         "title": {
          "text": "Number of Owners"
         }
        }
       }
      }
     },
     "metadata": {},
     "output_type": "display_data"
    }
   ],
   "source": [
    "fig04 = px.bar(MNonSerDis[1:], x = 'NAICS2017_LABEL',  y= 'OWNPDEMP', title=\"Non-Service-Disabled Male Veterans Business Owners by Industry with over 1000 respondents, 2018\", color_discrete_sequence =['darkgreen']*len(MNonServDisVetOwn),labels = {\"OWNPDEMP\": \"Number of Owners\", \"NAICS2017_LABEL\": \"Industry\"}, height=750, width=1000)\n",
    "\n",
    "\n",
    "\n",
    "\n",
    "fig04.update_layout(showlegend=False, barmode='stack', xaxis={'categoryorder':'total descending'}, margin=dict(l=20,r=20,t=40,b=40))\n",
    "\n",
    "\n",
    "\n",
    "fig04.update_xaxes(tickangle=45)\n",
    "fig04.show()\n",
    "\n",
    "\n",
    "fig04.write_image(r\"VetOwnMNSD1000plus.png\")"
   ]
  },
  {
   "cell_type": "code",
   "execution_count": 18,
   "metadata": {},
   "outputs": [
    {
     "data": {
      "application/vnd.plotly.v1+json": {
       "config": {
        "plotlyServerURL": "https://plot.ly"
       },
       "data": [
        {
         "alignmentgroup": "True",
         "hovertemplate": "OWNCHAR_LABEL=Service-disabled veteran<br>Gender=%{x}<br>Number of Owners=%{y}<extra></extra>",
         "legendgroup": "Service-disabled veteran",
         "marker": {
          "color": "purple",
          "pattern": {
           "shape": ""
          }
         },
         "name": "Service-disabled veteran",
         "offsetgroup": "Service-disabled veteran",
         "orientation": "v",
         "showlegend": true,
         "textposition": "auto",
         "type": "bar",
         "x": [
          "All owners of respondent firms",
          "Female",
          "Male"
         ],
         "xaxis": "x",
         "y": [
          34324,
          1696,
          32627
         ],
         "yaxis": "y"
        },
        {
         "alignmentgroup": "True",
         "hovertemplate": "OWNCHAR_LABEL=Not a service-disabled veteran<br>Gender=%{x}<br>Number of Owners=%{y}<extra></extra>",
         "legendgroup": "Not a service-disabled veteran",
         "marker": {
          "color": "darkgreen",
          "pattern": {
           "shape": ""
          }
         },
         "name": "Not a service-disabled veteran",
         "offsetgroup": "Not a service-disabled veteran",
         "orientation": "v",
         "showlegend": true,
         "textposition": "auto",
         "type": "bar",
         "x": [
          "All owners of respondent firms",
          "Female",
          "Male"
         ],
         "xaxis": "x",
         "y": [
          269413,
          9943,
          259469
         ],
         "yaxis": "y"
        }
       ],
       "layout": {
        "barmode": "group",
        "height": 400,
        "legend": {
         "title": {
          "text": "Service Disability Status"
         },
         "tracegroupgap": 0
        },
        "template": {
         "data": {
          "bar": [
           {
            "error_x": {
             "color": "#2a3f5f"
            },
            "error_y": {
             "color": "#2a3f5f"
            },
            "marker": {
             "line": {
              "color": "#E5ECF6",
              "width": 0.5
             },
             "pattern": {
              "fillmode": "overlay",
              "size": 10,
              "solidity": 0.2
             }
            },
            "type": "bar"
           }
          ],
          "barpolar": [
           {
            "marker": {
             "line": {
              "color": "#E5ECF6",
              "width": 0.5
             },
             "pattern": {
              "fillmode": "overlay",
              "size": 10,
              "solidity": 0.2
             }
            },
            "type": "barpolar"
           }
          ],
          "carpet": [
           {
            "aaxis": {
             "endlinecolor": "#2a3f5f",
             "gridcolor": "white",
             "linecolor": "white",
             "minorgridcolor": "white",
             "startlinecolor": "#2a3f5f"
            },
            "baxis": {
             "endlinecolor": "#2a3f5f",
             "gridcolor": "white",
             "linecolor": "white",
             "minorgridcolor": "white",
             "startlinecolor": "#2a3f5f"
            },
            "type": "carpet"
           }
          ],
          "choropleth": [
           {
            "colorbar": {
             "outlinewidth": 0,
             "ticks": ""
            },
            "type": "choropleth"
           }
          ],
          "contour": [
           {
            "colorbar": {
             "outlinewidth": 0,
             "ticks": ""
            },
            "colorscale": [
             [
              0,
              "#0d0887"
             ],
             [
              0.1111111111111111,
              "#46039f"
             ],
             [
              0.2222222222222222,
              "#7201a8"
             ],
             [
              0.3333333333333333,
              "#9c179e"
             ],
             [
              0.4444444444444444,
              "#bd3786"
             ],
             [
              0.5555555555555556,
              "#d8576b"
             ],
             [
              0.6666666666666666,
              "#ed7953"
             ],
             [
              0.7777777777777778,
              "#fb9f3a"
             ],
             [
              0.8888888888888888,
              "#fdca26"
             ],
             [
              1,
              "#f0f921"
             ]
            ],
            "type": "contour"
           }
          ],
          "contourcarpet": [
           {
            "colorbar": {
             "outlinewidth": 0,
             "ticks": ""
            },
            "type": "contourcarpet"
           }
          ],
          "heatmap": [
           {
            "colorbar": {
             "outlinewidth": 0,
             "ticks": ""
            },
            "colorscale": [
             [
              0,
              "#0d0887"
             ],
             [
              0.1111111111111111,
              "#46039f"
             ],
             [
              0.2222222222222222,
              "#7201a8"
             ],
             [
              0.3333333333333333,
              "#9c179e"
             ],
             [
              0.4444444444444444,
              "#bd3786"
             ],
             [
              0.5555555555555556,
              "#d8576b"
             ],
             [
              0.6666666666666666,
              "#ed7953"
             ],
             [
              0.7777777777777778,
              "#fb9f3a"
             ],
             [
              0.8888888888888888,
              "#fdca26"
             ],
             [
              1,
              "#f0f921"
             ]
            ],
            "type": "heatmap"
           }
          ],
          "heatmapgl": [
           {
            "colorbar": {
             "outlinewidth": 0,
             "ticks": ""
            },
            "colorscale": [
             [
              0,
              "#0d0887"
             ],
             [
              0.1111111111111111,
              "#46039f"
             ],
             [
              0.2222222222222222,
              "#7201a8"
             ],
             [
              0.3333333333333333,
              "#9c179e"
             ],
             [
              0.4444444444444444,
              "#bd3786"
             ],
             [
              0.5555555555555556,
              "#d8576b"
             ],
             [
              0.6666666666666666,
              "#ed7953"
             ],
             [
              0.7777777777777778,
              "#fb9f3a"
             ],
             [
              0.8888888888888888,
              "#fdca26"
             ],
             [
              1,
              "#f0f921"
             ]
            ],
            "type": "heatmapgl"
           }
          ],
          "histogram": [
           {
            "marker": {
             "pattern": {
              "fillmode": "overlay",
              "size": 10,
              "solidity": 0.2
             }
            },
            "type": "histogram"
           }
          ],
          "histogram2d": [
           {
            "colorbar": {
             "outlinewidth": 0,
             "ticks": ""
            },
            "colorscale": [
             [
              0,
              "#0d0887"
             ],
             [
              0.1111111111111111,
              "#46039f"
             ],
             [
              0.2222222222222222,
              "#7201a8"
             ],
             [
              0.3333333333333333,
              "#9c179e"
             ],
             [
              0.4444444444444444,
              "#bd3786"
             ],
             [
              0.5555555555555556,
              "#d8576b"
             ],
             [
              0.6666666666666666,
              "#ed7953"
             ],
             [
              0.7777777777777778,
              "#fb9f3a"
             ],
             [
              0.8888888888888888,
              "#fdca26"
             ],
             [
              1,
              "#f0f921"
             ]
            ],
            "type": "histogram2d"
           }
          ],
          "histogram2dcontour": [
           {
            "colorbar": {
             "outlinewidth": 0,
             "ticks": ""
            },
            "colorscale": [
             [
              0,
              "#0d0887"
             ],
             [
              0.1111111111111111,
              "#46039f"
             ],
             [
              0.2222222222222222,
              "#7201a8"
             ],
             [
              0.3333333333333333,
              "#9c179e"
             ],
             [
              0.4444444444444444,
              "#bd3786"
             ],
             [
              0.5555555555555556,
              "#d8576b"
             ],
             [
              0.6666666666666666,
              "#ed7953"
             ],
             [
              0.7777777777777778,
              "#fb9f3a"
             ],
             [
              0.8888888888888888,
              "#fdca26"
             ],
             [
              1,
              "#f0f921"
             ]
            ],
            "type": "histogram2dcontour"
           }
          ],
          "mesh3d": [
           {
            "colorbar": {
             "outlinewidth": 0,
             "ticks": ""
            },
            "type": "mesh3d"
           }
          ],
          "parcoords": [
           {
            "line": {
             "colorbar": {
              "outlinewidth": 0,
              "ticks": ""
             }
            },
            "type": "parcoords"
           }
          ],
          "pie": [
           {
            "automargin": true,
            "type": "pie"
           }
          ],
          "scatter": [
           {
            "marker": {
             "colorbar": {
              "outlinewidth": 0,
              "ticks": ""
             }
            },
            "type": "scatter"
           }
          ],
          "scatter3d": [
           {
            "line": {
             "colorbar": {
              "outlinewidth": 0,
              "ticks": ""
             }
            },
            "marker": {
             "colorbar": {
              "outlinewidth": 0,
              "ticks": ""
             }
            },
            "type": "scatter3d"
           }
          ],
          "scattercarpet": [
           {
            "marker": {
             "colorbar": {
              "outlinewidth": 0,
              "ticks": ""
             }
            },
            "type": "scattercarpet"
           }
          ],
          "scattergeo": [
           {
            "marker": {
             "colorbar": {
              "outlinewidth": 0,
              "ticks": ""
             }
            },
            "type": "scattergeo"
           }
          ],
          "scattergl": [
           {
            "marker": {
             "colorbar": {
              "outlinewidth": 0,
              "ticks": ""
             }
            },
            "type": "scattergl"
           }
          ],
          "scattermapbox": [
           {
            "marker": {
             "colorbar": {
              "outlinewidth": 0,
              "ticks": ""
             }
            },
            "type": "scattermapbox"
           }
          ],
          "scatterpolar": [
           {
            "marker": {
             "colorbar": {
              "outlinewidth": 0,
              "ticks": ""
             }
            },
            "type": "scatterpolar"
           }
          ],
          "scatterpolargl": [
           {
            "marker": {
             "colorbar": {
              "outlinewidth": 0,
              "ticks": ""
             }
            },
            "type": "scatterpolargl"
           }
          ],
          "scatterternary": [
           {
            "marker": {
             "colorbar": {
              "outlinewidth": 0,
              "ticks": ""
             }
            },
            "type": "scatterternary"
           }
          ],
          "surface": [
           {
            "colorbar": {
             "outlinewidth": 0,
             "ticks": ""
            },
            "colorscale": [
             [
              0,
              "#0d0887"
             ],
             [
              0.1111111111111111,
              "#46039f"
             ],
             [
              0.2222222222222222,
              "#7201a8"
             ],
             [
              0.3333333333333333,
              "#9c179e"
             ],
             [
              0.4444444444444444,
              "#bd3786"
             ],
             [
              0.5555555555555556,
              "#d8576b"
             ],
             [
              0.6666666666666666,
              "#ed7953"
             ],
             [
              0.7777777777777778,
              "#fb9f3a"
             ],
             [
              0.8888888888888888,
              "#fdca26"
             ],
             [
              1,
              "#f0f921"
             ]
            ],
            "type": "surface"
           }
          ],
          "table": [
           {
            "cells": {
             "fill": {
              "color": "#EBF0F8"
             },
             "line": {
              "color": "white"
             }
            },
            "header": {
             "fill": {
              "color": "#C8D4E3"
             },
             "line": {
              "color": "white"
             }
            },
            "type": "table"
           }
          ]
         },
         "layout": {
          "annotationdefaults": {
           "arrowcolor": "#2a3f5f",
           "arrowhead": 0,
           "arrowwidth": 1
          },
          "autotypenumbers": "strict",
          "coloraxis": {
           "colorbar": {
            "outlinewidth": 0,
            "ticks": ""
           }
          },
          "colorscale": {
           "diverging": [
            [
             0,
             "#8e0152"
            ],
            [
             0.1,
             "#c51b7d"
            ],
            [
             0.2,
             "#de77ae"
            ],
            [
             0.3,
             "#f1b6da"
            ],
            [
             0.4,
             "#fde0ef"
            ],
            [
             0.5,
             "#f7f7f7"
            ],
            [
             0.6,
             "#e6f5d0"
            ],
            [
             0.7,
             "#b8e186"
            ],
            [
             0.8,
             "#7fbc41"
            ],
            [
             0.9,
             "#4d9221"
            ],
            [
             1,
             "#276419"
            ]
           ],
           "sequential": [
            [
             0,
             "#0d0887"
            ],
            [
             0.1111111111111111,
             "#46039f"
            ],
            [
             0.2222222222222222,
             "#7201a8"
            ],
            [
             0.3333333333333333,
             "#9c179e"
            ],
            [
             0.4444444444444444,
             "#bd3786"
            ],
            [
             0.5555555555555556,
             "#d8576b"
            ],
            [
             0.6666666666666666,
             "#ed7953"
            ],
            [
             0.7777777777777778,
             "#fb9f3a"
            ],
            [
             0.8888888888888888,
             "#fdca26"
            ],
            [
             1,
             "#f0f921"
            ]
           ],
           "sequentialminus": [
            [
             0,
             "#0d0887"
            ],
            [
             0.1111111111111111,
             "#46039f"
            ],
            [
             0.2222222222222222,
             "#7201a8"
            ],
            [
             0.3333333333333333,
             "#9c179e"
            ],
            [
             0.4444444444444444,
             "#bd3786"
            ],
            [
             0.5555555555555556,
             "#d8576b"
            ],
            [
             0.6666666666666666,
             "#ed7953"
            ],
            [
             0.7777777777777778,
             "#fb9f3a"
            ],
            [
             0.8888888888888888,
             "#fdca26"
            ],
            [
             1,
             "#f0f921"
            ]
           ]
          },
          "colorway": [
           "#636efa",
           "#EF553B",
           "#00cc96",
           "#ab63fa",
           "#FFA15A",
           "#19d3f3",
           "#FF6692",
           "#B6E880",
           "#FF97FF",
           "#FECB52"
          ],
          "font": {
           "color": "#2a3f5f"
          },
          "geo": {
           "bgcolor": "white",
           "lakecolor": "white",
           "landcolor": "#E5ECF6",
           "showlakes": true,
           "showland": true,
           "subunitcolor": "white"
          },
          "hoverlabel": {
           "align": "left"
          },
          "hovermode": "closest",
          "mapbox": {
           "style": "light"
          },
          "paper_bgcolor": "white",
          "plot_bgcolor": "#E5ECF6",
          "polar": {
           "angularaxis": {
            "gridcolor": "white",
            "linecolor": "white",
            "ticks": ""
           },
           "bgcolor": "#E5ECF6",
           "radialaxis": {
            "gridcolor": "white",
            "linecolor": "white",
            "ticks": ""
           }
          },
          "scene": {
           "xaxis": {
            "backgroundcolor": "#E5ECF6",
            "gridcolor": "white",
            "gridwidth": 2,
            "linecolor": "white",
            "showbackground": true,
            "ticks": "",
            "zerolinecolor": "white"
           },
           "yaxis": {
            "backgroundcolor": "#E5ECF6",
            "gridcolor": "white",
            "gridwidth": 2,
            "linecolor": "white",
            "showbackground": true,
            "ticks": "",
            "zerolinecolor": "white"
           },
           "zaxis": {
            "backgroundcolor": "#E5ECF6",
            "gridcolor": "white",
            "gridwidth": 2,
            "linecolor": "white",
            "showbackground": true,
            "ticks": "",
            "zerolinecolor": "white"
           }
          },
          "shapedefaults": {
           "line": {
            "color": "#2a3f5f"
           }
          },
          "ternary": {
           "aaxis": {
            "gridcolor": "white",
            "linecolor": "white",
            "ticks": ""
           },
           "baxis": {
            "gridcolor": "white",
            "linecolor": "white",
            "ticks": ""
           },
           "bgcolor": "#E5ECF6",
           "caxis": {
            "gridcolor": "white",
            "linecolor": "white",
            "ticks": ""
           }
          },
          "title": {
           "x": 0.05
          },
          "xaxis": {
           "automargin": true,
           "gridcolor": "white",
           "linecolor": "white",
           "ticks": "",
           "title": {
            "standoff": 15
           },
           "zerolinecolor": "white",
           "zerolinewidth": 2
          },
          "yaxis": {
           "automargin": true,
           "gridcolor": "white",
           "linecolor": "white",
           "ticks": "",
           "title": {
            "standoff": 15
           },
           "zerolinecolor": "white",
           "zerolinewidth": 2
          }
         }
        },
        "title": {
         "text": "Veteran Business Owners by Gender, 2018"
        },
        "xaxis": {
         "anchor": "y",
         "categoryorder": "total descending",
         "domain": [
          0,
          1
         ],
         "title": {
          "text": "Gender"
         }
        },
        "yaxis": {
         "anchor": "x",
         "domain": [
          0,
          1
         ],
         "title": {
          "text": "Number of Owners"
         }
        }
       }
      }
     },
     "metadata": {},
     "output_type": "display_data"
    }
   ],
   "source": [
    "fig05 = px.bar(VDisNonDis[:6], x = 'OWNER_SEX_LABEL',  y= 'OWNPDEMP', color ='OWNCHAR_LABEL', title = 'Veteran Business Owners by Gender, 2018', color_discrete_sequence=[\"purple\", \"darkgreen\"], height = 400, labels = {\"OWNPDEMP\": \"Number of Owners\", \"OWNER_SEX_LABEL\": \"Gender\"})\n",
    "\n",
    "fig05.update_layout(barmode='group', xaxis={'categoryorder':'total descending'}, legend_title_text='Service Disability Status')\n",
    "\n",
    "fig05.show()\n",
    "\n",
    "\n",
    "fig05.write_image(r\"VetOwnGen.png\")"
   ]
  }
 ],
 "metadata": {
  "kernelspec": {
   "display_name": "Python 3.9.12 ('base')",
   "language": "python",
   "name": "python3"
  },
  "language_info": {
   "codemirror_mode": {
    "name": "ipython",
    "version": 3
   },
   "file_extension": ".py",
   "mimetype": "text/x-python",
   "name": "python",
   "nbconvert_exporter": "python",
   "pygments_lexer": "ipython3",
   "version": "3.9.12"
  },
  "orig_nbformat": 4,
  "vscode": {
   "interpreter": {
    "hash": "b873ff1bdb436288997389ad0554016b476263221ef541de4710294d3256898e"
   }
  }
 },
 "nbformat": 4,
 "nbformat_minor": 2
}
